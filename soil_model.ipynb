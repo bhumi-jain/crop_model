{
 "cells": [
  {
   "cell_type": "markdown",
   "metadata": {},
   "source": [
    " Create Mixed Dataset"
   ]
  },
  {
   "cell_type": "code",
   "execution_count": 1,
   "metadata": {},
   "outputs": [
    {
     "name": "stdout",
     "output_type": "stream",
     "text": [
      "Dataset saved successfully at C:\\Users\\bhjai\\Downloads\\mixed_rice_growth_dataset.csv\n"
     ]
    }
   ],
   "source": [
    "import pandas as pd\n",
    "import numpy as np\n",
    "\n",
    "# Fixed latitude and longitude for Hyderabad\n",
    "latitude = 17.3850\n",
    "longitude = 78.4867\n",
    "\n",
    "# Generate synthetic data\n",
    "num_samples = 2000\n",
    "synthetic_data = []\n",
    "\n",
    "for _ in range(num_samples):\n",
    "    depth = np.random.choice([\"0-5 cm\", \"5-15 cm\", \"15-30 cm\", \"30-60 cm\"])\n",
    "    # Randomize conditions\n",
    "    is_optimal = np.random.choice([True, False])\n",
    "\n",
    "    if is_optimal:\n",
    "        # Optimal conditions\n",
    "        nitrogen = np.random.uniform(0.2, 0.5)  # g/kg\n",
    "        phosphorus = np.random.uniform(5, 30)  # mg/kg\n",
    "        potassium = np.random.uniform(0.5, 1.5)  # cmol/kg\n",
    "        ph = np.random.uniform(5.5, 6.5)  # Ideal pH for rice\n",
    "        temperature = np.random.uniform(25, 35)  # Ideal temperature range\n",
    "        humidity = np.random.uniform(70, 90)  # High humidity preferred\n",
    "        rainfall = np.random.uniform(100, 200)  # Sufficient rainfall\n",
    "        disease = \"Healthy\"\n",
    "    else:\n",
    "        # Non-optimal conditions (introduce anomalies)\n",
    "        nitrogen = np.random.uniform(0.05, 0.7)\n",
    "        phosphorus = np.random.uniform(1, 50)\n",
    "        potassium = np.random.uniform(0.3, 2)\n",
    "        ph = np.random.uniform(4, 9)\n",
    "        temperature = np.random.uniform(15, 45)\n",
    "        humidity = np.random.uniform(50, 100)\n",
    "        rainfall = np.random.uniform(50, 300)\n",
    "\n",
    "        # Assign diseases based on conditions\n",
    "        if humidity > 85 and temperature > 30:\n",
    "            disease = \"Blast\"\n",
    "        elif nitrogen > 0.5 and ph < 6:\n",
    "            disease = \"Sheath Blight\"\n",
    "        else:\n",
    "            disease = \"Suboptimal Growth\"\n",
    "\n",
    "    synthetic_data.append({\n",
    "        \"Latitude\": latitude,\n",
    "        \"Longitude\": longitude,\n",
    "        \"Depth\": depth,\n",
    "        \"Nitrogen (g/kg)\": round(nitrogen, 4),\n",
    "        \"Phosphorus (mg/kg)\": round(phosphorus, 2),\n",
    "        \"Potassium (cmol/kg)\": round(potassium, 4),\n",
    "        \"pH\": round(ph, 2),\n",
    "        \"Temperature (°C)\": round(temperature, 2),\n",
    "        \"Humidity (%)\": round(humidity, 2),\n",
    "        \"Rainfall (mm)\": round(rainfall, 2),\n",
    "        \"Disease\": disease\n",
    "    })\n",
    "\n",
    "# Convert to DataFrame\n",
    "synthetic_df = pd.DataFrame(synthetic_data)\n",
    "\n",
    "# Save the dataset\n",
    "file_path = r\"C:\\Users\\bhjai\\Downloads\\mixed_rice_growth_dataset.csv\"\n",
    "synthetic_df.to_csv(file_path, index=False)\n",
    "\n",
    "print(f\"Dataset saved successfully at {file_path}\")\n"
   ]
  },
  {
   "cell_type": "markdown",
   "metadata": {},
   "source": [
    "Add Real-Time Data Integration"
   ]
  },
  {
   "cell_type": "code",
   "execution_count": 2,
   "metadata": {},
   "outputs": [
    {
     "name": "stdout",
     "output_type": "stream",
     "text": [
      "Current Conditions: Temperature=24.3°C, Humidity=89%, Rainfall=0.2mm\n"
     ]
    }
   ],
   "source": [
    "import requests\n",
    "\n",
    "def fetch_weather(lat, lon):\n",
    "    api_key = \"b1f167d835524000bd0165053242911\"  # Replace with your actual API key\n",
    "    url = f\"https://api.weatherapi.com/v1/current.json?key={api_key}&q={lat},{lon}&aqi=no\"\n",
    "    response = requests.get(url).json()\n",
    "    \n",
    "    # Parse weather data\n",
    "    temperature = response['current']['temp_c']  # Temperature in Celsius\n",
    "    humidity = response['current']['humidity']   # Humidity in percentage\n",
    "    rainfall = response.get('current', {}).get('precip_mm', 0)  # Rainfall in mm\n",
    "    return temperature, humidity, rainfall\n",
    "\n",
    "# Test for Hyderabad\n",
    "lat, lon = 17.3850, 78.4867\n",
    "temperature, humidity, rainfall = fetch_weather(lat, lon)\n",
    "print(f\"Current Conditions: Temperature={temperature}°C, Humidity={humidity}%, Rainfall={rainfall}mm\")\n"
   ]
  },
  {
   "cell_type": "markdown",
   "metadata": {},
   "source": [
    "Add NDVI VALUES TO DATASET"
   ]
  },
  {
   "cell_type": "code",
   "execution_count": 3,
   "metadata": {},
   "outputs": [
    {
     "name": "stdout",
     "output_type": "stream",
     "text": [
      "Dataset Loaded:\n",
      "   Latitude  Longitude     Depth  Nitrogen (g/kg)  Phosphorus (mg/kg)  \\\n",
      "0    17.385    78.4867  15-30 cm           0.0843               35.32   \n",
      "1    17.385    78.4867   5-15 cm           0.1224               23.78   \n",
      "2    17.385    78.4867    0-5 cm           0.6445               31.23   \n",
      "3    17.385    78.4867  15-30 cm           0.6195                9.79   \n",
      "4    17.385    78.4867  30-60 cm           0.2690               34.71   \n",
      "\n",
      "   Potassium (cmol/kg)    pH  Temperature (°C)  Humidity (%)  Rainfall (mm)  \\\n",
      "0               0.8717  8.76             36.88         62.54         175.16   \n",
      "1               1.4859  6.92             22.00         78.84         281.92   \n",
      "2               0.7248  4.21             25.35         98.16         116.75   \n",
      "3               0.9398  5.42             19.41         71.78          89.42   \n",
      "4               1.6555  7.48             19.96         51.00         260.91   \n",
      "\n",
      "             Disease  \n",
      "0  Suboptimal Growth  \n",
      "1  Suboptimal Growth  \n",
      "2      Sheath Blight  \n",
      "3      Sheath Blight  \n",
      "4  Suboptimal Growth  \n"
     ]
    }
   ],
   "source": [
    "import pandas as pd\n",
    "\n",
    "# Load the dataset\n",
    "file_path = r\"C:\\Users\\bhjai\\Downloads\\mixed_rice_growth_dataset.csv\"\n",
    "df = pd.read_csv(file_path)\n",
    "\n",
    "# Preview the dataset\n",
    "print(\"Dataset Loaded:\")\n",
    "print(df.head())\n"
   ]
  },
  {
   "cell_type": "markdown",
   "metadata": {},
   "source": [
    "Fetch NDVI for Each Location"
   ]
  },
  {
   "cell_type": "code",
   "execution_count": 6,
   "metadata": {},
   "outputs": [],
   "source": [
    "import ee\n",
    "\n",
    "# Initialize Google Earth Engine\n",
    "service_account = 'agriculture@agriculture-analysis.iam.gserviceaccount.com'\n",
    "private_key_path =r'C:\\Users\\bhjai\\Downloads\\agriculture-analysis-c09db52519a2.json'\n",
    "credentials = ee.ServiceAccountCredentials(service_account, private_key_path)\n",
    "ee.Initialize(credentials)\n",
    "\n",
    "# Function to fetch NDVI\n",
    "def fetch_ndvi(lat, lon, start_date='2023-01-01', end_date='2023-12-31'):\n",
    "    try:\n",
    "        roi = ee.Geometry.Point([lon, lat])\n",
    "        \n",
    "        # Fetch Sentinel-2 data\n",
    "        dataset = ee.ImageCollection(\"COPERNICUS/S2_HARMONIZED\") \\\n",
    "            .filterBounds(roi) \\\n",
    "            .filterDate(start_date, end_date) \\\n",
    "            .filter(ee.Filter.lt(\"CLOUDY_PIXEL_PERCENTAGE\", 10))\n",
    "        \n",
    "        # Compute NDVI\n",
    "        ndvi_image = dataset.median().normalizedDifference(['B8', 'B4'])\n",
    "        ndvi = ndvi_image.reduceRegion(\n",
    "            reducer=ee.Reducer.mean(),\n",
    "            geometry=roi,\n",
    "            scale=10\n",
    "        ).getInfo()\n",
    "\n",
    "        return ndvi.get('nd', None)\n",
    "    except Exception as e:\n",
    "        print(f\"Error fetching NDVI for location ({lat}, {lon}): {e}\")\n",
    "        return None\n"
   ]
  },
  {
   "cell_type": "markdown",
   "metadata": {},
   "source": [
    "Add NDVI to Each Row"
   ]
  },
  {
   "cell_type": "code",
   "execution_count": 9,
   "metadata": {},
   "outputs": [
    {
     "name": "stdout",
     "output_type": "stream",
     "text": [
      "   Latitude  Longitude\n",
      "0    17.385    78.4867\n"
     ]
    }
   ],
   "source": [
    "# Extract unique Latitude and Longitude pairs\n",
    "coordinates = df[['Latitude', 'Longitude']].drop_duplicates()\n",
    "print(coordinates.head())\n"
   ]
  },
  {
   "cell_type": "markdown",
   "metadata": {},
   "source": [
    "Fetch NDVI in Bulk"
   ]
  },
  {
   "cell_type": "code",
   "execution_count": 12,
   "metadata": {},
   "outputs": [],
   "source": [
    "import ee\n",
    "\n",
    "# Initialize Earth Engine\n",
    "service_account = 'agriculture@agriculture-analysis.iam.gserviceaccount.com'\n",
    "private_key_path = r'C:\\Users\\bhjai\\Downloads\\agriculture-analysis-c09db52519a2.json'\n",
    "credentials = ee.ServiceAccountCredentials(service_account, private_key_path)\n",
    "ee.Initialize(credentials)\n",
    "\n",
    "# Define Hyderabad region as a bounding box\n",
    "hyderabad_region = ee.Geometry.Rectangle([78.3405, 17.1940, 78.6291, 17.5041])  # Adjust as needed\n"
   ]
  },
  {
   "cell_type": "markdown",
   "metadata": {},
   "source": [
    " Fetch NDVI Data for Hyderabad"
   ]
  },
  {
   "cell_type": "code",
   "execution_count": 15,
   "metadata": {},
   "outputs": [
    {
     "name": "stdout",
     "output_type": "stream",
     "text": [
      "NDVI for Hyderabad: 0.2007114866387348\n"
     ]
    }
   ],
   "source": [
    "def fetch_ndvi_hyderabad(start_date='2023-01-01', end_date='2023-12-31'):\n",
    "    try:\n",
    "        # Filter Sentinel-2 dataset for Hyderabad region\n",
    "        dataset = ee.ImageCollection(\"COPERNICUS/S2_HARMONIZED\") \\\n",
    "            .filterBounds(hyderabad_region) \\\n",
    "            .filterDate(start_date, end_date) \\\n",
    "            .filter(ee.Filter.lt(\"CLOUDY_PIXEL_PERCENTAGE\", 10))\n",
    "        \n",
    "        # Calculate NDVI\n",
    "        ndvi_image = dataset.median().normalizedDifference(['B8', 'B4'])\n",
    "        \n",
    "        # Reduce NDVI data to a single value per region\n",
    "        ndvi_stats = ndvi_image.reduceRegion(\n",
    "            reducer=ee.Reducer.mean(),\n",
    "            geometry=hyderabad_region,\n",
    "            scale=500,  # Coarser scale (500 meters)\n",
    "            maxPixels=1e8,  # Increase max pixels limit\n",
    "            bestEffort=True  # Allow aggregation with reduced precision\n",
    "        ).getInfo()\n",
    "        \n",
    "        return ndvi_stats.get('nd', None)\n",
    "    except Exception as e:\n",
    "        print(f\"Error fetching NDVI for Hyderabad: {e}\")\n",
    "        return None\n",
    "\n",
    "# Fetch NDVI for Hyderabad\n",
    "ndvi_hyderabad = fetch_ndvi_hyderabad()\n",
    "print(f\"NDVI for Hyderabad: {ndvi_hyderabad}\")\n"
   ]
  },
  {
   "cell_type": "markdown",
   "metadata": {},
   "source": [
    "Add NDVI to Your Dataset"
   ]
  },
  {
   "cell_type": "code",
   "execution_count": 16,
   "metadata": {},
   "outputs": [
    {
     "name": "stdout",
     "output_type": "stream",
     "text": [
      "Updated dataset saved successfully at C:\\Users\\bhjai\\Downloads\\mixed_rice_growth_dataset_with_ndvi.csv\n"
     ]
    }
   ],
   "source": [
    "# Add NDVI to the dataset\n",
    "df['NDVI'] = ndvi_hyderabad\n",
    "\n",
    "# Save the updated dataset\n",
    "updated_file_path = r\"C:\\Users\\bhjai\\Downloads\\mixed_rice_growth_dataset_with_ndvi.csv\"\n",
    "df.to_csv(updated_file_path, index=False)\n",
    "\n",
    "print(f\"Updated dataset saved successfully at {updated_file_path}\")\n"
   ]
  },
  {
   "cell_type": "code",
   "execution_count": 17,
   "metadata": {},
   "outputs": [
    {
     "name": "stdout",
     "output_type": "stream",
     "text": [
      "Updated Dataset Preview:\n",
      "   Latitude  Longitude     Depth  Nitrogen (g/kg)  Phosphorus (mg/kg)  \\\n",
      "0    17.385    78.4867  15-30 cm           0.0843               35.32   \n",
      "1    17.385    78.4867   5-15 cm           0.1224               23.78   \n",
      "2    17.385    78.4867    0-5 cm           0.6445               31.23   \n",
      "3    17.385    78.4867  15-30 cm           0.6195                9.79   \n",
      "4    17.385    78.4867  30-60 cm           0.2690               34.71   \n",
      "\n",
      "   Potassium (cmol/kg)    pH  Temperature (°C)  Humidity (%)  Rainfall (mm)  \\\n",
      "0               0.8717  8.76             36.88         62.54         175.16   \n",
      "1               1.4859  6.92             22.00         78.84         281.92   \n",
      "2               0.7248  4.21             25.35         98.16         116.75   \n",
      "3               0.9398  5.42             19.41         71.78          89.42   \n",
      "4               1.6555  7.48             19.96         51.00         260.91   \n",
      "\n",
      "             Disease      NDVI  \n",
      "0  Suboptimal Growth  0.200711  \n",
      "1  Suboptimal Growth  0.200711  \n",
      "2      Sheath Blight  0.200711  \n",
      "3      Sheath Blight  0.200711  \n",
      "4  Suboptimal Growth  0.200711  \n"
     ]
    }
   ],
   "source": [
    "print(\"Updated Dataset Preview:\")\n",
    "print(df.head())\n"
   ]
  },
  {
   "cell_type": "markdown",
   "metadata": {},
   "source": [
    "TRAINING ML MODEL"
   ]
  },
  {
   "cell_type": "code",
   "execution_count": 20,
   "metadata": {},
   "outputs": [
    {
     "name": "stdout",
     "output_type": "stream",
     "text": [
      "Epoch 1/50\n"
     ]
    },
    {
     "name": "stderr",
     "output_type": "stream",
     "text": [
      "c:\\Users\\bhjai\\AppData\\Local\\Programs\\Python\\Python311\\Lib\\site-packages\\keras\\src\\layers\\core\\dense.py:87: UserWarning: Do not pass an `input_shape`/`input_dim` argument to a layer. When using Sequential models, prefer using an `Input(shape)` object as the first layer in the model instead.\n",
      "  super().__init__(activity_regularizer=activity_regularizer, **kwargs)\n"
     ]
    },
    {
     "name": "stdout",
     "output_type": "stream",
     "text": [
      "\u001b[1m40/40\u001b[0m \u001b[32m━━━━━━━━━━━━━━━━━━━━\u001b[0m\u001b[37m\u001b[0m \u001b[1m1s\u001b[0m 5ms/step - accuracy: 0.4305 - loss: 1.2266 - val_accuracy: 0.7563 - val_loss: 0.8204\n",
      "Epoch 2/50\n",
      "\u001b[1m40/40\u001b[0m \u001b[32m━━━━━━━━━━━━━━━━━━━━\u001b[0m\u001b[37m\u001b[0m \u001b[1m0s\u001b[0m 2ms/step - accuracy: 0.7281 - loss: 0.8241 - val_accuracy: 0.7906 - val_loss: 0.6529\n",
      "Epoch 3/50\n",
      "\u001b[1m40/40\u001b[0m \u001b[32m━━━━━━━━━━━━━━━━━━━━\u001b[0m\u001b[37m\u001b[0m \u001b[1m0s\u001b[0m 2ms/step - accuracy: 0.7763 - loss: 0.7029 - val_accuracy: 0.8406 - val_loss: 0.5458\n",
      "Epoch 4/50\n",
      "\u001b[1m40/40\u001b[0m \u001b[32m━━━━━━━━━━━━━━━━━━━━\u001b[0m\u001b[37m\u001b[0m \u001b[1m0s\u001b[0m 2ms/step - accuracy: 0.8550 - loss: 0.5085 - val_accuracy: 0.8562 - val_loss: 0.4431\n",
      "Epoch 5/50\n",
      "\u001b[1m40/40\u001b[0m \u001b[32m━━━━━━━━━━━━━━━━━━━━\u001b[0m\u001b[37m\u001b[0m \u001b[1m0s\u001b[0m 2ms/step - accuracy: 0.8635 - loss: 0.4599 - val_accuracy: 0.8781 - val_loss: 0.3653\n",
      "Epoch 6/50\n",
      "\u001b[1m40/40\u001b[0m \u001b[32m━━━━━━━━━━━━━━━━━━━━\u001b[0m\u001b[37m\u001b[0m \u001b[1m0s\u001b[0m 2ms/step - accuracy: 0.9042 - loss: 0.3743 - val_accuracy: 0.9000 - val_loss: 0.3062\n",
      "Epoch 7/50\n",
      "\u001b[1m40/40\u001b[0m \u001b[32m━━━━━━━━━━━━━━━━━━━━\u001b[0m\u001b[37m\u001b[0m \u001b[1m0s\u001b[0m 2ms/step - accuracy: 0.9157 - loss: 0.3126 - val_accuracy: 0.9062 - val_loss: 0.2613\n",
      "Epoch 8/50\n",
      "\u001b[1m40/40\u001b[0m \u001b[32m━━━━━━━━━━━━━━━━━━━━\u001b[0m\u001b[37m\u001b[0m \u001b[1m0s\u001b[0m 1ms/step - accuracy: 0.8889 - loss: 0.3264 - val_accuracy: 0.9281 - val_loss: 0.2288\n",
      "Epoch 9/50\n",
      "\u001b[1m40/40\u001b[0m \u001b[32m━━━━━━━━━━━━━━━━━━━━\u001b[0m\u001b[37m\u001b[0m \u001b[1m0s\u001b[0m 1ms/step - accuracy: 0.9167 - loss: 0.2890 - val_accuracy: 0.9219 - val_loss: 0.2108\n",
      "Epoch 10/50\n",
      "\u001b[1m40/40\u001b[0m \u001b[32m━━━━━━━━━━━━━━━━━━━━\u001b[0m\u001b[37m\u001b[0m \u001b[1m0s\u001b[0m 2ms/step - accuracy: 0.9341 - loss: 0.2276 - val_accuracy: 0.9344 - val_loss: 0.1889\n",
      "Epoch 11/50\n",
      "\u001b[1m40/40\u001b[0m \u001b[32m━━━━━━━━━━━━━━━━━━━━\u001b[0m\u001b[37m\u001b[0m \u001b[1m0s\u001b[0m 2ms/step - accuracy: 0.9205 - loss: 0.2187 - val_accuracy: 0.9281 - val_loss: 0.1833\n",
      "Epoch 12/50\n",
      "\u001b[1m40/40\u001b[0m \u001b[32m━━━━━━━━━━━━━━━━━━━━\u001b[0m\u001b[37m\u001b[0m \u001b[1m0s\u001b[0m 2ms/step - accuracy: 0.9522 - loss: 0.1812 - val_accuracy: 0.9375 - val_loss: 0.1816\n",
      "Epoch 13/50\n",
      "\u001b[1m40/40\u001b[0m \u001b[32m━━━━━━━━━━━━━━━━━━━━\u001b[0m\u001b[37m\u001b[0m \u001b[1m0s\u001b[0m 2ms/step - accuracy: 0.9278 - loss: 0.2270 - val_accuracy: 0.9469 - val_loss: 0.1702\n",
      "Epoch 14/50\n",
      "\u001b[1m40/40\u001b[0m \u001b[32m━━━━━━━━━━━━━━━━━━━━\u001b[0m\u001b[37m\u001b[0m \u001b[1m0s\u001b[0m 1ms/step - accuracy: 0.9370 - loss: 0.2087 - val_accuracy: 0.9438 - val_loss: 0.1589\n",
      "Epoch 15/50\n",
      "\u001b[1m40/40\u001b[0m \u001b[32m━━━━━━━━━━━━━━━━━━━━\u001b[0m\u001b[37m\u001b[0m \u001b[1m0s\u001b[0m 1ms/step - accuracy: 0.9343 - loss: 0.1815 - val_accuracy: 0.9406 - val_loss: 0.1531\n",
      "Epoch 16/50\n",
      "\u001b[1m40/40\u001b[0m \u001b[32m━━━━━━━━━━━━━━━━━━━━\u001b[0m\u001b[37m\u001b[0m \u001b[1m0s\u001b[0m 1ms/step - accuracy: 0.9422 - loss: 0.1964 - val_accuracy: 0.9406 - val_loss: 0.1510\n",
      "Epoch 17/50\n",
      "\u001b[1m40/40\u001b[0m \u001b[32m━━━━━━━━━━━━━━━━━━━━\u001b[0m\u001b[37m\u001b[0m \u001b[1m0s\u001b[0m 2ms/step - accuracy: 0.9394 - loss: 0.1637 - val_accuracy: 0.9406 - val_loss: 0.1486\n",
      "Epoch 18/50\n",
      "\u001b[1m40/40\u001b[0m \u001b[32m━━━━━━━━━━━━━━━━━━━━\u001b[0m\u001b[37m\u001b[0m \u001b[1m0s\u001b[0m 2ms/step - accuracy: 0.9554 - loss: 0.1383 - val_accuracy: 0.9469 - val_loss: 0.1538\n",
      "Epoch 19/50\n",
      "\u001b[1m40/40\u001b[0m \u001b[32m━━━━━━━━━━━━━━━━━━━━\u001b[0m\u001b[37m\u001b[0m \u001b[1m0s\u001b[0m 1ms/step - accuracy: 0.9418 - loss: 0.1601 - val_accuracy: 0.9406 - val_loss: 0.1415\n",
      "Epoch 20/50\n",
      "\u001b[1m40/40\u001b[0m \u001b[32m━━━━━━━━━━━━━━━━━━━━\u001b[0m\u001b[37m\u001b[0m \u001b[1m0s\u001b[0m 2ms/step - accuracy: 0.9481 - loss: 0.1694 - val_accuracy: 0.9406 - val_loss: 0.1451\n",
      "Epoch 21/50\n",
      "\u001b[1m40/40\u001b[0m \u001b[32m━━━━━━━━━━━━━━━━━━━━\u001b[0m\u001b[37m\u001b[0m \u001b[1m0s\u001b[0m 1ms/step - accuracy: 0.9421 - loss: 0.1520 - val_accuracy: 0.9406 - val_loss: 0.1398\n",
      "Epoch 22/50\n",
      "\u001b[1m40/40\u001b[0m \u001b[32m━━━━━━━━━━━━━━━━━━━━\u001b[0m\u001b[37m\u001b[0m \u001b[1m0s\u001b[0m 2ms/step - accuracy: 0.9528 - loss: 0.1390 - val_accuracy: 0.9406 - val_loss: 0.1391\n",
      "Epoch 23/50\n",
      "\u001b[1m40/40\u001b[0m \u001b[32m━━━━━━━━━━━━━━━━━━━━\u001b[0m\u001b[37m\u001b[0m \u001b[1m0s\u001b[0m 2ms/step - accuracy: 0.9592 - loss: 0.1387 - val_accuracy: 0.9375 - val_loss: 0.1384\n",
      "Epoch 24/50\n",
      "\u001b[1m40/40\u001b[0m \u001b[32m━━━━━━━━━━━━━━━━━━━━\u001b[0m\u001b[37m\u001b[0m \u001b[1m0s\u001b[0m 2ms/step - accuracy: 0.9538 - loss: 0.1420 - val_accuracy: 0.9375 - val_loss: 0.1380\n",
      "Epoch 25/50\n",
      "\u001b[1m40/40\u001b[0m \u001b[32m━━━━━━━━━━━━━━━━━━━━\u001b[0m\u001b[37m\u001b[0m \u001b[1m0s\u001b[0m 2ms/step - accuracy: 0.9587 - loss: 0.1418 - val_accuracy: 0.9344 - val_loss: 0.1472\n",
      "Epoch 26/50\n",
      "\u001b[1m40/40\u001b[0m \u001b[32m━━━━━━━━━━━━━━━━━━━━\u001b[0m\u001b[37m\u001b[0m \u001b[1m0s\u001b[0m 2ms/step - accuracy: 0.9537 - loss: 0.1288 - val_accuracy: 0.9438 - val_loss: 0.1276\n",
      "Epoch 27/50\n",
      "\u001b[1m40/40\u001b[0m \u001b[32m━━━━━━━━━━━━━━━━━━━━\u001b[0m\u001b[37m\u001b[0m \u001b[1m0s\u001b[0m 2ms/step - accuracy: 0.9392 - loss: 0.1648 - val_accuracy: 0.9500 - val_loss: 0.1318\n",
      "Epoch 28/50\n",
      "\u001b[1m40/40\u001b[0m \u001b[32m━━━━━━━━━━━━━━━━━━━━\u001b[0m\u001b[37m\u001b[0m \u001b[1m0s\u001b[0m 2ms/step - accuracy: 0.9433 - loss: 0.1466 - val_accuracy: 0.9500 - val_loss: 0.1270\n",
      "Epoch 29/50\n",
      "\u001b[1m40/40\u001b[0m \u001b[32m━━━━━━━━━━━━━━━━━━━━\u001b[0m\u001b[37m\u001b[0m \u001b[1m0s\u001b[0m 2ms/step - accuracy: 0.9672 - loss: 0.1256 - val_accuracy: 0.9469 - val_loss: 0.1240\n",
      "Epoch 30/50\n",
      "\u001b[1m40/40\u001b[0m \u001b[32m━━━━━━━━━━━━━━━━━━━━\u001b[0m\u001b[37m\u001b[0m \u001b[1m0s\u001b[0m 2ms/step - accuracy: 0.9721 - loss: 0.1060 - val_accuracy: 0.9531 - val_loss: 0.1272\n",
      "Epoch 31/50\n",
      "\u001b[1m40/40\u001b[0m \u001b[32m━━━━━━━━━━━━━━━━━━━━\u001b[0m\u001b[37m\u001b[0m \u001b[1m0s\u001b[0m 2ms/step - accuracy: 0.9576 - loss: 0.1244 - val_accuracy: 0.9500 - val_loss: 0.1240\n",
      "Epoch 32/50\n",
      "\u001b[1m40/40\u001b[0m \u001b[32m━━━━━━━━━━━━━━━━━━━━\u001b[0m\u001b[37m\u001b[0m \u001b[1m0s\u001b[0m 2ms/step - accuracy: 0.9619 - loss: 0.1160 - val_accuracy: 0.9469 - val_loss: 0.1230\n",
      "Epoch 33/50\n",
      "\u001b[1m40/40\u001b[0m \u001b[32m━━━━━━━━━━━━━━━━━━━━\u001b[0m\u001b[37m\u001b[0m \u001b[1m0s\u001b[0m 1ms/step - accuracy: 0.9629 - loss: 0.1315 - val_accuracy: 0.9500 - val_loss: 0.1210\n",
      "Epoch 34/50\n",
      "\u001b[1m40/40\u001b[0m \u001b[32m━━━━━━━━━━━━━━━━━━━━\u001b[0m\u001b[37m\u001b[0m \u001b[1m0s\u001b[0m 2ms/step - accuracy: 0.9582 - loss: 0.1274 - val_accuracy: 0.9625 - val_loss: 0.1184\n",
      "Epoch 35/50\n",
      "\u001b[1m40/40\u001b[0m \u001b[32m━━━━━━━━━━━━━━━━━━━━\u001b[0m\u001b[37m\u001b[0m \u001b[1m0s\u001b[0m 2ms/step - accuracy: 0.9597 - loss: 0.1014 - val_accuracy: 0.9563 - val_loss: 0.1208\n",
      "Epoch 36/50\n",
      "\u001b[1m40/40\u001b[0m \u001b[32m━━━━━━━━━━━━━━━━━━━━\u001b[0m\u001b[37m\u001b[0m \u001b[1m0s\u001b[0m 2ms/step - accuracy: 0.9646 - loss: 0.1199 - val_accuracy: 0.9500 - val_loss: 0.1205\n",
      "Epoch 37/50\n",
      "\u001b[1m40/40\u001b[0m \u001b[32m━━━━━━━━━━━━━━━━━━━━\u001b[0m\u001b[37m\u001b[0m \u001b[1m0s\u001b[0m 2ms/step - accuracy: 0.9631 - loss: 0.0985 - val_accuracy: 0.9531 - val_loss: 0.1206\n",
      "Epoch 38/50\n",
      "\u001b[1m40/40\u001b[0m \u001b[32m━━━━━━━━━━━━━━━━━━━━\u001b[0m\u001b[37m\u001b[0m \u001b[1m0s\u001b[0m 2ms/step - accuracy: 0.9692 - loss: 0.1024 - val_accuracy: 0.9563 - val_loss: 0.1199\n",
      "Epoch 39/50\n",
      "\u001b[1m40/40\u001b[0m \u001b[32m━━━━━━━━━━━━━━━━━━━━\u001b[0m\u001b[37m\u001b[0m \u001b[1m0s\u001b[0m 1ms/step - accuracy: 0.9739 - loss: 0.0837 - val_accuracy: 0.9531 - val_loss: 0.1229\n",
      "Epoch 40/50\n",
      "\u001b[1m40/40\u001b[0m \u001b[32m━━━━━━━━━━━━━━━━━━━━\u001b[0m\u001b[37m\u001b[0m \u001b[1m0s\u001b[0m 2ms/step - accuracy: 0.9680 - loss: 0.1048 - val_accuracy: 0.9531 - val_loss: 0.1221\n",
      "Epoch 41/50\n",
      "\u001b[1m40/40\u001b[0m \u001b[32m━━━━━━━━━━━━━━━━━━━━\u001b[0m\u001b[37m\u001b[0m \u001b[1m0s\u001b[0m 2ms/step - accuracy: 0.9694 - loss: 0.0990 - val_accuracy: 0.9500 - val_loss: 0.1187\n",
      "Epoch 42/50\n",
      "\u001b[1m40/40\u001b[0m \u001b[32m━━━━━━━━━━━━━━━━━━━━\u001b[0m\u001b[37m\u001b[0m \u001b[1m0s\u001b[0m 2ms/step - accuracy: 0.9646 - loss: 0.1191 - val_accuracy: 0.9500 - val_loss: 0.1283\n",
      "Epoch 43/50\n",
      "\u001b[1m40/40\u001b[0m \u001b[32m━━━━━━━━━━━━━━━━━━━━\u001b[0m\u001b[37m\u001b[0m \u001b[1m0s\u001b[0m 2ms/step - accuracy: 0.9625 - loss: 0.1044 - val_accuracy: 0.9563 - val_loss: 0.1184\n",
      "Epoch 44/50\n",
      "\u001b[1m40/40\u001b[0m \u001b[32m━━━━━━━━━━━━━━━━━━━━\u001b[0m\u001b[37m\u001b[0m \u001b[1m0s\u001b[0m 2ms/step - accuracy: 0.9716 - loss: 0.0944 - val_accuracy: 0.9500 - val_loss: 0.1154\n",
      "Epoch 45/50\n",
      "\u001b[1m40/40\u001b[0m \u001b[32m━━━━━━━━━━━━━━━━━━━━\u001b[0m\u001b[37m\u001b[0m \u001b[1m0s\u001b[0m 1ms/step - accuracy: 0.9725 - loss: 0.0840 - val_accuracy: 0.9563 - val_loss: 0.1148\n",
      "Epoch 46/50\n",
      "\u001b[1m40/40\u001b[0m \u001b[32m━━━━━━━━━━━━━━━━━━━━\u001b[0m\u001b[37m\u001b[0m \u001b[1m0s\u001b[0m 1ms/step - accuracy: 0.9688 - loss: 0.0990 - val_accuracy: 0.9625 - val_loss: 0.1067\n",
      "Epoch 47/50\n",
      "\u001b[1m40/40\u001b[0m \u001b[32m━━━━━━━━━━━━━━━━━━━━\u001b[0m\u001b[37m\u001b[0m \u001b[1m0s\u001b[0m 2ms/step - accuracy: 0.9656 - loss: 0.1013 - val_accuracy: 0.9656 - val_loss: 0.1164\n",
      "Epoch 48/50\n",
      "\u001b[1m40/40\u001b[0m \u001b[32m━━━━━━━━━━━━━━━━━━━━\u001b[0m\u001b[37m\u001b[0m \u001b[1m0s\u001b[0m 2ms/step - accuracy: 0.9687 - loss: 0.0908 - val_accuracy: 0.9500 - val_loss: 0.1209\n",
      "Epoch 49/50\n",
      "\u001b[1m40/40\u001b[0m \u001b[32m━━━━━━━━━━━━━━━━━━━━\u001b[0m\u001b[37m\u001b[0m \u001b[1m0s\u001b[0m 1ms/step - accuracy: 0.9709 - loss: 0.0988 - val_accuracy: 0.9563 - val_loss: 0.1099\n",
      "Epoch 50/50\n",
      "\u001b[1m40/40\u001b[0m \u001b[32m━━━━━━━━━━━━━━━━━━━━\u001b[0m\u001b[37m\u001b[0m \u001b[1m0s\u001b[0m 2ms/step - accuracy: 0.9692 - loss: 0.0795 - val_accuracy: 0.9688 - val_loss: 0.1088\n",
      "Test Accuracy: 95.75%\n",
      "\u001b[1m13/13\u001b[0m \u001b[32m━━━━━━━━━━━━━━━━━━━━\u001b[0m\u001b[37m\u001b[0m \u001b[1m0s\u001b[0m 2ms/step \n",
      "Classification Report:\n",
      "                   precision    recall  f1-score   support\n",
      "\n",
      "            Blast       0.94      0.88      0.91        34\n",
      "          Healthy       0.99      1.00      0.99       186\n",
      "    Sheath Blight       0.81      0.71      0.76        24\n",
      "Suboptimal Growth       0.94      0.96      0.95       156\n",
      "\n",
      "         accuracy                           0.96       400\n",
      "        macro avg       0.92      0.89      0.90       400\n",
      "     weighted avg       0.96      0.96      0.96       400\n",
      "\n"
     ]
    }
   ],
   "source": [
    "import pandas as pd\n",
    "import numpy as np\n",
    "from sklearn.model_selection import train_test_split\n",
    "from sklearn.preprocessing import StandardScaler\n",
    "from sklearn.metrics import classification_report\n",
    "from tensorflow.keras.models import Sequential\n",
    "from tensorflow.keras.layers import Dense, Dropout\n",
    "\n",
    "# Load the dataset\n",
    "file_path = r\"C:\\Users\\bhjai\\Downloads\\mixed_rice_growth_dataset_with_ndvi.csv\"\n",
    "df = pd.read_csv(file_path)\n",
    "\n",
    "\n",
    "# Prepare features (X) and target (y)\n",
    "X = df[['Nitrogen (g/kg)', 'Phosphorus (mg/kg)', 'Potassium (cmol/kg)', 'pH',\n",
    "        'Temperature (°C)', 'Humidity (%)', 'Rainfall (mm)', 'NDVI']]\n",
    "y = df['Disease']  # Target column with labels like 'Healthy', 'Blast', etc.\n",
    "\n",
    "# Encode the target variable\n",
    "from sklearn.preprocessing import LabelEncoder\n",
    "label_encoder = LabelEncoder()\n",
    "y_encoded = label_encoder.fit_transform(y)  # Convert labels to integers\n",
    "\n",
    "# Split the data into training and testing sets\n",
    "from sklearn.model_selection import train_test_split\n",
    "X_train, X_test, y_train, y_test = train_test_split(X, y_encoded, test_size=0.2, random_state=42)\n",
    "\n",
    "# Standardize the features\n",
    "from sklearn.preprocessing import StandardScaler\n",
    "scaler = StandardScaler()\n",
    "X_train_scaled = scaler.fit_transform(X_train)\n",
    "X_test_scaled = scaler.transform(X_test)\n",
    "\n",
    "# Build the Neural Network model\n",
    "from tensorflow.keras.models import Sequential\n",
    "from tensorflow.keras.layers import Dense, Dropout\n",
    "\n",
    "model = Sequential([\n",
    "    Dense(128, activation='relu', input_shape=(X_train_scaled.shape[1],)),\n",
    "    Dropout(0.3),\n",
    "    Dense(64, activation='relu'),\n",
    "    Dropout(0.3),\n",
    "    Dense(len(label_encoder.classes_), activation='softmax')  # Output layer for classification\n",
    "])\n",
    "\n",
    "# Compile the model\n",
    "model.compile(optimizer='adam', loss='sparse_categorical_crossentropy', metrics=['accuracy'])\n",
    "\n",
    "# Train the model\n",
    "history = model.fit(X_train_scaled, y_train, epochs=50, validation_split=0.2, batch_size=32, verbose=1)\n",
    "\n",
    "# Evaluate the model on the test set\n",
    "test_loss, test_accuracy = model.evaluate(X_test_scaled, y_test, verbose=0)\n",
    "print(f\"Test Accuracy: {test_accuracy * 100:.2f}%\")\n",
    "\n",
    "# Classification report\n",
    "from sklearn.metrics import classification_report\n",
    "y_pred = model.predict(X_test_scaled).argmax(axis=1)\n",
    "print(\"Classification Report:\")\n",
    "print(classification_report(y_test, y_pred, target_names=label_encoder.classes_))\n"
   ]
  },
  {
   "cell_type": "markdown",
   "metadata": {},
   "source": [
    "Verify Predictions with Real-Time Data"
   ]
  },
  {
   "cell_type": "code",
   "execution_count": 22,
   "metadata": {},
   "outputs": [
    {
     "name": "stdout",
     "output_type": "stream",
     "text": [
      "\u001b[1m1/1\u001b[0m \u001b[32m━━━━━━━━━━━━━━━━━━━━\u001b[0m\u001b[37m\u001b[0m \u001b[1m0s\u001b[0m 31ms/step\n",
      "Predicted Condition: Suboptimal Growth\n"
     ]
    },
    {
     "name": "stderr",
     "output_type": "stream",
     "text": [
      "c:\\Users\\bhjai\\AppData\\Local\\Programs\\Python\\Python311\\Lib\\site-packages\\sklearn\\base.py:493: UserWarning: X does not have valid feature names, but StandardScaler was fitted with feature names\n",
      "  warnings.warn(\n"
     ]
    }
   ],
   "source": [
    "def predict_rice_condition(**kwargs):\n",
    "    # Ensure all required features are present\n",
    "    required_features = ['Nitrogen (g/kg)', 'Phosphorus (mg/kg)', 'Potassium (cmol/kg)', \n",
    "                         'pH', 'Temperature (°C)', 'Humidity (%)', 'Rainfall (mm)', 'NDVI']\n",
    "    input_data = np.array([[kwargs[feature] for feature in required_features]])\n",
    "    input_scaled = scaler.transform(input_data)  # Scale the input\n",
    "    prediction = model.predict(input_scaled).argmax(axis=1)\n",
    "    predicted_label = label_encoder.inverse_transform(prediction)\n",
    "    return predicted_label[0]\n",
    "\n",
    "# Test with real-time data\n",
    "real_time_input = {\n",
    "    \"Nitrogen (g/kg)\": 0.3,\n",
    "    \"Phosphorus (mg/kg)\": 20,\n",
    "    \"Potassium (cmol/kg)\": 1.5,\n",
    "    \"pH\": 6.5,\n",
    "    \"Temperature (°C)\": 28,\n",
    "    \"Humidity (%)\": 85,\n",
    "    \"Rainfall (mm)\": 50,\n",
    "    \"NDVI\": 0.6\n",
    "}\n",
    "\n",
    "predicted_condition = predict_rice_condition(**real_time_input)\n",
    "print(f\"Predicted Condition: {predicted_condition}\")\n"
   ]
  },
  {
   "cell_type": "markdown",
   "metadata": {},
   "source": [
    "1.Evaluate Model Performance"
   ]
  },
  {
   "cell_type": "code",
   "execution_count": 25,
   "metadata": {},
   "outputs": [
    {
     "name": "stdout",
     "output_type": "stream",
     "text": [
      "\u001b[1m13/13\u001b[0m \u001b[32m━━━━━━━━━━━━━━━━━━━━\u001b[0m\u001b[37m\u001b[0m \u001b[1m0s\u001b[0m 852us/step\n",
      "Classification Report:\n",
      "                   precision    recall  f1-score   support\n",
      "\n",
      "            Blast       0.94      0.88      0.91        34\n",
      "          Healthy       0.99      1.00      0.99       186\n",
      "    Sheath Blight       0.81      0.71      0.76        24\n",
      "Suboptimal Growth       0.94      0.96      0.95       156\n",
      "\n",
      "         accuracy                           0.96       400\n",
      "        macro avg       0.92      0.89      0.90       400\n",
      "     weighted avg       0.96      0.96      0.96       400\n",
      "\n"
     ]
    },
    {
     "data": {
      "image/png": "[encoded data removed]",
      "text/plain": [
       "<Figure size 800x600 with 2 Axes>"
      ]
     },
     "metadata": {},
     "output_type": "display_data"
    }
   ],
   "source": [
    "from sklearn.metrics import classification_report, confusion_matrix\n",
    "import seaborn as sns\n",
    "import matplotlib.pyplot as plt\n",
    "\n",
    "# Predictions on test set\n",
    "y_pred = model.predict(X_test_scaled).argmax(axis=1)\n",
    "\n",
    "# Classification Report\n",
    "print(\"Classification Report:\")\n",
    "print(classification_report(y_test, y_pred, target_names=label_encoder.classes_))\n",
    "\n",
    "# Confusion Matrix\n",
    "conf_matrix = confusion_matrix(y_test, y_pred)\n",
    "\n",
    "# Plot Confusion Matrix\n",
    "plt.figure(figsize=(8, 6))\n",
    "sns.heatmap(conf_matrix, annot=True, fmt=\"d\", cmap=\"Blues\", xticklabels=label_encoder.classes_, yticklabels=label_encoder.classes_)\n",
    "plt.xlabel(\"Predicted\")\n",
    "plt.ylabel(\"Actual\")\n",
    "plt.title(\"Confusion Matrix\")\n",
    "plt.show()\n"
   ]
  },
  {
   "cell_type": "markdown",
   "metadata": {},
   "source": [
    "2.Perform Cross-Validation"
   ]
  },
  {
   "cell_type": "code",
   "execution_count": 27,
   "metadata": {},
   "outputs": [
    {
     "name": "stderr",
     "output_type": "stream",
     "text": [
      "c:\\Users\\bhjai\\AppData\\Local\\Programs\\Python\\Python311\\Lib\\site-packages\\keras\\src\\layers\\core\\dense.py:87: UserWarning: Do not pass an `input_shape`/`input_dim` argument to a layer. When using Sequential models, prefer using an `Input(shape)` object as the first layer in the model instead.\n",
      "  super().__init__(activity_regularizer=activity_regularizer, **kwargs)\n",
      "c:\\Users\\bhjai\\AppData\\Local\\Programs\\Python\\Python311\\Lib\\site-packages\\keras\\src\\layers\\core\\dense.py:87: UserWarning: Do not pass an `input_shape`/`input_dim` argument to a layer. When using Sequential models, prefer using an `Input(shape)` object as the first layer in the model instead.\n",
      "  super().__init__(activity_regularizer=activity_regularizer, **kwargs)\n",
      "c:\\Users\\bhjai\\AppData\\Local\\Programs\\Python\\Python311\\Lib\\site-packages\\keras\\src\\layers\\core\\dense.py:87: UserWarning: Do not pass an `input_shape`/`input_dim` argument to a layer. When using Sequential models, prefer using an `Input(shape)` object as the first layer in the model instead.\n",
      "  super().__init__(activity_regularizer=activity_regularizer, **kwargs)\n",
      "c:\\Users\\bhjai\\AppData\\Local\\Programs\\Python\\Python311\\Lib\\site-packages\\keras\\src\\layers\\core\\dense.py:87: UserWarning: Do not pass an `input_shape`/`input_dim` argument to a layer. When using Sequential models, prefer using an `Input(shape)` object as the first layer in the model instead.\n",
      "  super().__init__(activity_regularizer=activity_regularizer, **kwargs)\n",
      "c:\\Users\\bhjai\\AppData\\Local\\Programs\\Python\\Python311\\Lib\\site-packages\\keras\\src\\layers\\core\\dense.py:87: UserWarning: Do not pass an `input_shape`/`input_dim` argument to a layer. When using Sequential models, prefer using an `Input(shape)` object as the first layer in the model instead.\n",
      "  super().__init__(activity_regularizer=activity_regularizer, **kwargs)\n"
     ]
    },
    {
     "name": "stdout",
     "output_type": "stream",
     "text": [
      "Cross-Validation Scores: [0.9625   0.953125 0.96875  0.971875 0.95    ]\n",
      "Mean Accuracy: 0.96125\n"
     ]
    }
   ],
   "source": [
    "from scikeras.wrappers import KerasClassifier\n",
    "from sklearn.model_selection import cross_val_score\n",
    "\n",
    "# Define the model creation function\n",
    "def create_model():\n",
    "    model = Sequential([\n",
    "        Dense(128, activation='relu', input_shape=(X_train_scaled.shape[1],)),\n",
    "        Dropout(0.3),\n",
    "        Dense(64, activation='relu'),\n",
    "        Dropout(0.3),\n",
    "        Dense(len(label_encoder.classes_), activation='softmax')\n",
    "    ])\n",
    "    model.compile(optimizer='adam', loss='sparse_categorical_crossentropy', metrics=['accuracy'])\n",
    "    return model\n",
    "\n",
    "# Wrap the model using KerasClassifier\n",
    "keras_model = KerasClassifier(model=create_model, epochs=50, batch_size=32, verbose=0)\n",
    "\n",
    "# Perform cross-validation\n",
    "cv_scores = cross_val_score(keras_model, X_train_scaled, y_train, cv=5)\n",
    "print(\"Cross-Validation Scores:\", cv_scores)\n",
    "print(\"Mean Accuracy:\", np.mean(cv_scores))\n"
   ]
  },
  {
   "cell_type": "markdown",
   "metadata": {},
   "source": [
    "3 Test with Real-Time Data"
   ]
  },
  {
   "cell_type": "code",
   "execution_count": 28,
   "metadata": {},
   "outputs": [
    {
     "name": "stdout",
     "output_type": "stream",
     "text": [
      "\u001b[1m1/1\u001b[0m \u001b[32m━━━━━━━━━━━━━━━━━━━━\u001b[0m\u001b[37m\u001b[0m \u001b[1m0s\u001b[0m 27ms/step\n",
      "Predicted Condition for input {'Nitrogen (g/kg)': 0.3, 'Phosphorus (mg/kg)': 20, 'Potassium (cmol/kg)': 1.5, 'pH': 6.5, 'Temperature (°C)': 28, 'Humidity (%)': 85, 'Rainfall (mm)': 50, 'NDVI': 0.6}: Suboptimal Growth\n",
      "\u001b[1m1/1\u001b[0m \u001b[32m━━━━━━━━━━━━━━━━━━━━\u001b[0m\u001b[37m\u001b[0m \u001b[1m0s\u001b[0m 47ms/step\n",
      "Predicted Condition for input {'Nitrogen (g/kg)': 0.15, 'Phosphorus (mg/kg)': 15, 'Potassium (cmol/kg)': 1.2, 'pH': 5.5, 'Temperature (°C)': 30, 'Humidity (%)': 90, 'Rainfall (mm)': 70, 'NDVI': 0.5}: Suboptimal Growth\n"
     ]
    },
    {
     "name": "stderr",
     "output_type": "stream",
     "text": [
      "c:\\Users\\bhjai\\AppData\\Local\\Programs\\Python\\Python311\\Lib\\site-packages\\sklearn\\base.py:493: UserWarning: X does not have valid feature names, but StandardScaler was fitted with feature names\n",
      "  warnings.warn(\n",
      "c:\\Users\\bhjai\\AppData\\Local\\Programs\\Python\\Python311\\Lib\\site-packages\\sklearn\\base.py:493: UserWarning: X does not have valid feature names, but StandardScaler was fitted with feature names\n",
      "  warnings.warn(\n"
     ]
    }
   ],
   "source": [
    "# Example real-time inputs for testing\n",
    "real_time_inputs = [\n",
    "    {\"Nitrogen (g/kg)\": 0.3, \"Phosphorus (mg/kg)\": 20, \"Potassium (cmol/kg)\": 1.5, \"pH\": 6.5, \"Temperature (°C)\": 28, \"Humidity (%)\": 85, \"Rainfall (mm)\": 50, \"NDVI\": 0.6},\n",
    "    {\"Nitrogen (g/kg)\": 0.15, \"Phosphorus (mg/kg)\": 15, \"Potassium (cmol/kg)\": 1.2, \"pH\": 5.5, \"Temperature (°C)\": 30, \"Humidity (%)\": 90, \"Rainfall (mm)\": 70, \"NDVI\": 0.5}\n",
    "]\n",
    "\n",
    "for input_data in real_time_inputs:\n",
    "    condition = predict_rice_condition(**input_data)\n",
    "    print(f\"Predicted Condition for input {input_data}: {condition}\")\n"
   ]
  },
  {
   "cell_type": "markdown",
   "metadata": {},
   "source": [
    " Test Non-Optimal Conditions"
   ]
  },
  {
   "cell_type": "code",
   "execution_count": 39,
   "metadata": {},
   "outputs": [
    {
     "name": "stdout",
     "output_type": "stream",
     "text": [
      "\u001b[1m1/1\u001b[0m \u001b[32m━━━━━━━━━━━━━━━━━━━━\u001b[0m\u001b[37m\u001b[0m \u001b[1m0s\u001b[0m 29ms/step\n",
      "Test Case 1: {'Nitrogen (g/kg)': 0.1, 'Phosphorus (mg/kg)': 5, 'Potassium (cmol/kg)': 0.4, 'pH': 4.0, 'Temperature (°C)': 18, 'Humidity (%)': 40, 'Rainfall (mm)': 40, 'NDVI': 0.2}\n",
      "Predicted Condition: Suboptimal Growth\n",
      "--------------------------------------------------\n",
      "\u001b[1m1/1\u001b[0m \u001b[32m━━━━━━━━━━━━━━━━━━━━\u001b[0m\u001b[37m\u001b[0m \u001b[1m0s\u001b[0m 47ms/step\n"
     ]
    },
    {
     "name": "stderr",
     "output_type": "stream",
     "text": [
      "c:\\Users\\bhjai\\AppData\\Local\\Programs\\Python\\Python311\\Lib\\site-packages\\sklearn\\base.py:493: UserWarning: X does not have valid feature names, but StandardScaler was fitted with feature names\n",
      "  warnings.warn(\n",
      "c:\\Users\\bhjai\\AppData\\Local\\Programs\\Python\\Python311\\Lib\\site-packages\\sklearn\\base.py:493: UserWarning: X does not have valid feature names, but StandardScaler was fitted with feature names\n",
      "  warnings.warn(\n"
     ]
    },
    {
     "name": "stdout",
     "output_type": "stream",
     "text": [
      "Test Case 2: {'Nitrogen (g/kg)': 0.5, 'Phosphorus (mg/kg)': 50, 'Potassium (cmol/kg)': 2.5, 'pH': 8.5, 'Temperature (°C)': 42, 'Humidity (%)': 95, 'Rainfall (mm)': 350, 'NDVI': 0.9}\n",
      "Predicted Condition: Blast\n",
      "--------------------------------------------------\n",
      "\u001b[1m1/1\u001b[0m \u001b[32m━━━━━━━━━━━━━━━━━━━━\u001b[0m\u001b[37m\u001b[0m \u001b[1m0s\u001b[0m 49ms/step\n",
      "Test Case 3: {'Nitrogen (g/kg)': 0.2, 'Phosphorus (mg/kg)': 20, 'Potassium (cmol/kg)': 1.0, 'pH': 6.0, 'Temperature (°C)': 30, 'Humidity (%)': 80, 'Rainfall (mm)': 150, 'NDVI': 0.6}\n",
      "Predicted Condition: Healthy\n",
      "--------------------------------------------------\n"
     ]
    },
    {
     "name": "stderr",
     "output_type": "stream",
     "text": [
      "c:\\Users\\bhjai\\AppData\\Local\\Programs\\Python\\Python311\\Lib\\site-packages\\sklearn\\base.py:493: UserWarning: X does not have valid feature names, but StandardScaler was fitted with feature names\n",
      "  warnings.warn(\n",
      "c:\\Users\\bhjai\\AppData\\Local\\Programs\\Python\\Python311\\Lib\\site-packages\\sklearn\\base.py:493: UserWarning: X does not have valid feature names, but StandardScaler was fitted with feature names\n",
      "  warnings.warn(\n"
     ]
    },
    {
     "name": "stdout",
     "output_type": "stream",
     "text": [
      "\u001b[1m1/1\u001b[0m \u001b[32m━━━━━━━━━━━━━━━━━━━━\u001b[0m\u001b[37m\u001b[0m \u001b[1m0s\u001b[0m 72ms/step\n",
      "Test Case 4: {'Nitrogen (g/kg)': 0.15, 'Phosphorus (mg/kg)': 8, 'Potassium (cmol/kg)': 0.8, 'pH': 5.0, 'Temperature (°C)': 25, 'Humidity (%)': 60, 'Rainfall (mm)': 70, 'NDVI': 0.4}\n",
      "Predicted Condition: Suboptimal Growth\n",
      "--------------------------------------------------\n",
      "\u001b[1m1/1\u001b[0m \u001b[32m━━━━━━━━━━━━━━━━━━━━\u001b[0m\u001b[37m\u001b[0m \u001b[1m0s\u001b[0m 34ms/step\n",
      "Test Case 5: {'Nitrogen (g/kg)': 0.05, 'Phosphorus (mg/kg)': 4, 'Potassium (cmol/kg)': 0.5, 'pH': 4.5, 'Temperature (°C)': 22, 'Humidity (%)': 70, 'Rainfall (mm)': 60, 'NDVI': 0.3}\n",
      "Predicted Condition: Suboptimal Growth\n",
      "--------------------------------------------------\n"
     ]
    },
    {
     "name": "stderr",
     "output_type": "stream",
     "text": [
      "c:\\Users\\bhjai\\AppData\\Local\\Programs\\Python\\Python311\\Lib\\site-packages\\sklearn\\base.py:493: UserWarning: X does not have valid feature names, but StandardScaler was fitted with feature names\n",
      "  warnings.warn(\n"
     ]
    }
   ],
   "source": [
    "# Define test cases for non-optimal conditions\n",
    "test_cases = [\n",
    "    {\"Nitrogen (g/kg)\": 0.1, \"Phosphorus (mg/kg)\": 5, \"Potassium (cmol/kg)\": 0.4, \"pH\": 4.0, \"Temperature (°C)\": 18, \"Humidity (%)\": 40, \"Rainfall (mm)\": 40, \"NDVI\": 0.2},\n",
    "    {\"Nitrogen (g/kg)\": 0.5, \"Phosphorus (mg/kg)\": 50, \"Potassium (cmol/kg)\": 2.5, \"pH\": 8.5, \"Temperature (°C)\": 42, \"Humidity (%)\": 95, \"Rainfall (mm)\": 350, \"NDVI\": 0.9},\n",
    "    {\"Nitrogen (g/kg)\": 0.2, \"Phosphorus (mg/kg)\": 20, \"Potassium (cmol/kg)\": 1.0, \"pH\": 6.0, \"Temperature (°C)\": 30, \"Humidity (%)\": 80, \"Rainfall (mm)\": 150, \"NDVI\": 0.6},\n",
    "    {\"Nitrogen (g/kg)\": 0.15, \"Phosphorus (mg/kg)\": 8, \"Potassium (cmol/kg)\": 0.8, \"pH\": 5.0, \"Temperature (°C)\": 25, \"Humidity (%)\": 60, \"Rainfall (mm)\": 70, \"NDVI\": 0.4},\n",
    "    {\"Nitrogen (g/kg)\": 0.05, \"Phosphorus (mg/kg)\": 4, \"Potassium (cmol/kg)\": 0.5, \"pH\": 4.5, \"Temperature (°C)\": 22, \"Humidity (%)\": 70, \"Rainfall (mm)\": 60, \"NDVI\": 0.3},\n",
    "    \n",
    "]\n",
    "\n",
    "# Test the model with these conditions\n",
    "for i, case in enumerate(test_cases, start=1):\n",
    "    condition = predict_rice_condition(**case)\n",
    "    print(f\"Test Case {i}: {case}\")\n",
    "    print(f\"Predicted Condition: {condition}\")\n",
    "    print(\"-\" * 50)\n"
   ]
  },
  {
   "cell_type": "markdown",
   "metadata": {},
   "source": [
    "Code for Tabular Output"
   ]
  },
  {
   "cell_type": "code",
   "execution_count": 41,
   "metadata": {},
   "outputs": [
    {
     "name": "stdout",
     "output_type": "stream",
     "text": [
      "\u001b[1m1/1\u001b[0m \u001b[32m━━━━━━━━━━━━━━━━━━━━\u001b[0m\u001b[37m\u001b[0m \u001b[1m0s\u001b[0m 25ms/step\n",
      "\u001b[1m1/1\u001b[0m \u001b[32m━━━━━━━━━━━━━━━━━━━━\u001b[0m\u001b[37m\u001b[0m \u001b[1m0s\u001b[0m 27ms/step\n"
     ]
    },
    {
     "name": "stderr",
     "output_type": "stream",
     "text": [
      "c:\\Users\\bhjai\\AppData\\Local\\Programs\\Python\\Python311\\Lib\\site-packages\\sklearn\\base.py:493: UserWarning: X does not have valid feature names, but StandardScaler was fitted with feature names\n",
      "  warnings.warn(\n",
      "c:\\Users\\bhjai\\AppData\\Local\\Programs\\Python\\Python311\\Lib\\site-packages\\sklearn\\base.py:493: UserWarning: X does not have valid feature names, but StandardScaler was fitted with feature names\n",
      "  warnings.warn(\n",
      "c:\\Users\\bhjai\\AppData\\Local\\Programs\\Python\\Python311\\Lib\\site-packages\\sklearn\\base.py:493: UserWarning: X does not have valid feature names, but StandardScaler was fitted with feature names\n",
      "  warnings.warn(\n"
     ]
    },
    {
     "name": "stdout",
     "output_type": "stream",
     "text": [
      "\u001b[1m1/1\u001b[0m \u001b[32m━━━━━━━━━━━━━━━━━━━━\u001b[0m\u001b[37m\u001b[0m \u001b[1m0s\u001b[0m 44ms/step\n",
      "\u001b[1m1/1\u001b[0m \u001b[32m━━━━━━━━━━━━━━━━━━━━\u001b[0m\u001b[37m\u001b[0m \u001b[1m0s\u001b[0m 27ms/step\n",
      "\u001b[1m1/1\u001b[0m \u001b[32m━━━━━━━━━━━━━━━━━━━━\u001b[0m\u001b[37m\u001b[0m \u001b[1m0s\u001b[0m 46ms/step\n"
     ]
    },
    {
     "name": "stderr",
     "output_type": "stream",
     "text": [
      "c:\\Users\\bhjai\\AppData\\Local\\Programs\\Python\\Python311\\Lib\\site-packages\\sklearn\\base.py:493: UserWarning: X does not have valid feature names, but StandardScaler was fitted with feature names\n",
      "  warnings.warn(\n",
      "c:\\Users\\bhjai\\AppData\\Local\\Programs\\Python\\Python311\\Lib\\site-packages\\sklearn\\base.py:493: UserWarning: X does not have valid feature names, but StandardScaler was fitted with feature names\n",
      "  warnings.warn(\n"
     ]
    },
    {
     "data": {
      "text/html": [
       "<div>\n",
       "<style scoped>\n",
       "    .dataframe tbody tr th:only-of-type {\n",
       "        vertical-align: middle;\n",
       "    }\n",
       "\n",
       "    .dataframe tbody tr th {\n",
       "        vertical-align: top;\n",
       "    }\n",
       "\n",
       "    .dataframe thead th {\n",
       "        text-align: right;\n",
       "    }\n",
       "</style>\n",
       "<table border=\"1\" class=\"dataframe\">\n",
       "  <thead>\n",
       "    <tr style=\"text-align: right;\">\n",
       "      <th></th>\n",
       "      <th>Nitrogen (g/kg)</th>\n",
       "      <th>Phosphorus (mg/kg)</th>\n",
       "      <th>Potassium (cmol/kg)</th>\n",
       "      <th>pH</th>\n",
       "      <th>Temperature (°C)</th>\n",
       "      <th>Humidity (%)</th>\n",
       "      <th>Rainfall (mm)</th>\n",
       "      <th>NDVI</th>\n",
       "      <th>Predicted Condition</th>\n",
       "    </tr>\n",
       "  </thead>\n",
       "  <tbody>\n",
       "    <tr>\n",
       "      <th>0</th>\n",
       "      <td>0.10</td>\n",
       "      <td>5</td>\n",
       "      <td>0.4</td>\n",
       "      <td>4.0</td>\n",
       "      <td>18</td>\n",
       "      <td>40</td>\n",
       "      <td>40</td>\n",
       "      <td>0.2</td>\n",
       "      <td>Suboptimal Growth</td>\n",
       "    </tr>\n",
       "    <tr>\n",
       "      <th>1</th>\n",
       "      <td>0.50</td>\n",
       "      <td>50</td>\n",
       "      <td>2.5</td>\n",
       "      <td>8.5</td>\n",
       "      <td>42</td>\n",
       "      <td>95</td>\n",
       "      <td>350</td>\n",
       "      <td>0.9</td>\n",
       "      <td>Blast</td>\n",
       "    </tr>\n",
       "    <tr>\n",
       "      <th>2</th>\n",
       "      <td>0.20</td>\n",
       "      <td>20</td>\n",
       "      <td>1.0</td>\n",
       "      <td>6.0</td>\n",
       "      <td>30</td>\n",
       "      <td>80</td>\n",
       "      <td>150</td>\n",
       "      <td>0.6</td>\n",
       "      <td>Healthy</td>\n",
       "    </tr>\n",
       "    <tr>\n",
       "      <th>3</th>\n",
       "      <td>0.15</td>\n",
       "      <td>8</td>\n",
       "      <td>0.8</td>\n",
       "      <td>5.0</td>\n",
       "      <td>25</td>\n",
       "      <td>60</td>\n",
       "      <td>70</td>\n",
       "      <td>0.4</td>\n",
       "      <td>Suboptimal Growth</td>\n",
       "    </tr>\n",
       "    <tr>\n",
       "      <th>4</th>\n",
       "      <td>0.05</td>\n",
       "      <td>4</td>\n",
       "      <td>0.5</td>\n",
       "      <td>4.5</td>\n",
       "      <td>22</td>\n",
       "      <td>70</td>\n",
       "      <td>60</td>\n",
       "      <td>0.3</td>\n",
       "      <td>Suboptimal Growth</td>\n",
       "    </tr>\n",
       "  </tbody>\n",
       "</table>\n",
       "</div>"
      ],
      "text/plain": [
       "   Nitrogen (g/kg)  Phosphorus (mg/kg)  Potassium (cmol/kg)   pH  \\\n",
       "0             0.10                   5                  0.4  4.0   \n",
       "1             0.50                  50                  2.5  8.5   \n",
       "2             0.20                  20                  1.0  6.0   \n",
       "3             0.15                   8                  0.8  5.0   \n",
       "4             0.05                   4                  0.5  4.5   \n",
       "\n",
       "   Temperature (°C)  Humidity (%)  Rainfall (mm)  NDVI Predicted Condition  \n",
       "0                18            40             40   0.2   Suboptimal Growth  \n",
       "1                42            95            350   0.9               Blast  \n",
       "2                30            80            150   0.6             Healthy  \n",
       "3                25            60             70   0.4   Suboptimal Growth  \n",
       "4                22            70             60   0.3   Suboptimal Growth  "
      ]
     },
     "metadata": {},
     "output_type": "display_data"
    }
   ],
   "source": [
    "import pandas as pd\n",
    "\n",
    "# Define test cases for non-optimal conditions\n",
    "test_cases = [\n",
    "    {\"Nitrogen (g/kg)\": 0.1, \"Phosphorus (mg/kg)\": 5, \"Potassium (cmol/kg)\": 0.4, \"pH\": 4.0, \"Temperature (°C)\": 18, \"Humidity (%)\": 40, \"Rainfall (mm)\": 40, \"NDVI\": 0.2},\n",
    "    {\"Nitrogen (g/kg)\": 0.5, \"Phosphorus (mg/kg)\": 50, \"Potassium (cmol/kg)\": 2.5, \"pH\": 8.5, \"Temperature (°C)\": 42, \"Humidity (%)\": 95, \"Rainfall (mm)\": 350, \"NDVI\": 0.9},\n",
    "    {\"Nitrogen (g/kg)\": 0.2, \"Phosphorus (mg/kg)\": 20, \"Potassium (cmol/kg)\": 1.0, \"pH\": 6.0, \"Temperature (°C)\": 30, \"Humidity (%)\": 80, \"Rainfall (mm)\": 150, \"NDVI\": 0.6},\n",
    "    {\"Nitrogen (g/kg)\": 0.15, \"Phosphorus (mg/kg)\": 8, \"Potassium (cmol/kg)\": 0.8, \"pH\": 5.0, \"Temperature (°C)\": 25, \"Humidity (%)\": 60, \"Rainfall (mm)\": 70, \"NDVI\": 0.4},\n",
    "    {\"Nitrogen (g/kg)\": 0.05, \"Phosphorus (mg/kg)\": 4, \"Potassium (cmol/kg)\": 0.5, \"pH\": 4.5, \"Temperature (°C)\": 22, \"Humidity (%)\": 70, \"Rainfall (mm)\": 60, \"NDVI\": 0.3},\n",
    "    \n",
    "]\n",
    "\n",
    "\n",
    "# Initialize a list to store results\n",
    "results = []\n",
    "\n",
    "# Predict conditions for each test case\n",
    "for i, case in enumerate(test_cases, start=1):\n",
    "    predicted_condition = predict_rice_condition(**case)\n",
    "    case[\"Predicted Condition\"] = predicted_condition  # Add prediction to the case\n",
    "    results.append(case)\n",
    "\n",
    "# Convert results to a DataFrame for tabular display\n",
    "results_df = pd.DataFrame(results)\n",
    "\n",
    "# Display the DataFrame in Jupyter Notebook\n",
    "from IPython.display import display\n",
    "display(results_df)\n"
   ]
  },
  {
   "cell_type": "markdown",
   "metadata": {},
   "source": [
    "1. Save the Model"
   ]
  },
  {
   "cell_type": "code",
   "execution_count": 42,
   "metadata": {},
   "outputs": [
    {
     "name": "stderr",
     "output_type": "stream",
     "text": [
      "WARNING:absl:You are saving your model as an HDF5 file via `model.save()` or `keras.saving.save_model(model)`. This file format is considered legacy. We recommend using instead the native Keras format, e.g. `model.save('my_model.keras')` or `keras.saving.save_model(model, 'my_model.keras')`. \n"
     ]
    },
    {
     "name": "stdout",
     "output_type": "stream",
     "text": [
      "Model saved at C:\\Users\\bhjai\\Downloads\\rice_growth_model.h5\n"
     ]
    }
   ],
   "source": [
    "model_path = r\"C:\\Users\\bhjai\\Downloads\\rice_growth_model.h5\"\n",
    "model.save(model_path)\n",
    "print(f\"Model saved at {model_path}\")\n"
   ]
  },
  {
   "cell_type": "markdown",
   "metadata": {},
   "source": [
    "Save the Scaler and Label Encoder"
   ]
  },
  {
   "cell_type": "code",
   "execution_count": 43,
   "metadata": {},
   "outputs": [
    {
     "name": "stdout",
     "output_type": "stream",
     "text": [
      "Scaler saved at C:\\Users\\bhjai\\Downloads\\rice_growth_scaler.pkl\n",
      "Label Encoder saved at C:\\Users\\bhjai\\Downloads\\rice_growth_label_encoder.pkl\n"
     ]
    }
   ],
   "source": [
    "import pickle\n",
    "\n",
    "# Save the scaler\n",
    "scaler_path = r\"C:\\Users\\bhjai\\Downloads\\rice_growth_scaler.pkl\"\n",
    "with open(scaler_path, 'wb') as file:\n",
    "    pickle.dump(scaler, file)\n",
    "print(f\"Scaler saved at {scaler_path}\")\n",
    "\n",
    "# Save the label encoder\n",
    "label_encoder_path = r\"C:\\Users\\bhjai\\Downloads\\rice_growth_label_encoder.pkl\"\n",
    "with open(label_encoder_path, 'wb') as file:\n",
    "    pickle.dump(label_encoder, file)\n",
    "print(f\"Label Encoder saved at {label_encoder_path}\")\n"
   ]
  },
  {
   "cell_type": "code",
   "execution_count": 4,
   "metadata": {},
   "outputs": [
    {
     "name": "stderr",
     "output_type": "stream",
     "text": [
      "INFO: Not scanning for jupyter notebooks.\n",
      "INFO: Successfully saved requirements file in .\\requirements.txt\n"
     ]
    }
   ],
   "source": [
    "!pipreqs . --force\n"
   ]
  }
 ],
 "metadata": {
  "kernelspec": {
   "display_name": "Python 3",
   "language": "python",
   "name": "python3"
  },
  "language_info": {
   "codemirror_mode": {
    "name": "ipython",
    "version": 3
   },
   "file_extension": ".py",
   "mimetype": "text/x-python",
   "name": "python",
   "nbconvert_exporter": "python",
   "pygments_lexer": "ipython3",
   "version": "3.11.8"
  }
 },
 "nbformat": 4,
 "nbformat_minor": 2
}
