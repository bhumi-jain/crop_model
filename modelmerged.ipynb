{
 "cells": [
  {
   "cell_type": "markdown",
   "metadata": {},
   "source": [
    "dataset generation \n"
   ]
  },
  {
   "cell_type": "code",
   "execution_count": null,
   "metadata": {},
   "outputs": [
    {
     "ename": "SyntaxError",
     "evalue": "(unicode error) 'unicodeescape' codec can't decode bytes in position 2-3: truncated \\UXXXXXXXX escape (1923510930.py, line 101)",
     "output_type": "error",
     "traceback": [
      "\u001b[1;36m  Cell \u001b[1;32mIn[1], line 101\u001b[1;36m\u001b[0m\n\u001b[1;33m    file_path = \"C:\\Users\\bhjai\\OneDrive\\Desktop\\mode_2\\crop_model\\updated_rice_dataset.csv\"  # Relative path\u001b[0m\n\u001b[1;37m                                                                                              ^\u001b[0m\n\u001b[1;31mSyntaxError\u001b[0m\u001b[1;31m:\u001b[0m (unicode error) 'unicodeescape' codec can't decode bytes in position 2-3: truncated \\UXXXXXXXX escape\n"
     ]
    }
   ],
   "source": [
    "import pandas as pd\n",
    "import numpy as np\n",
    "import random\n",
    "\n",
    "# Fixed latitude and longitude for Hyderabad\n",
    "latitude = 17.3850\n",
    "longitude = 78.4867\n",
    "\n",
    "# Define the disease conditions and time of day in 0-23 format\n",
    "conditions = {\n",
    "    \"Healthy\": {\n",
    "        \"Day-time (6am - 6pm)\": {\n",
    "            \"Temperature (°C)\": (22, 28),\n",
    "            \"Humidity (%)\": (60, 80),\n",
    "            \"Nitrogen (g/kg)\": (0.2, 0.6),\n",
    "            \"Phosphorus (mg/kg)\": (20, 50),\n",
    "            \"Potassium (cmol/kg)\": (0.2, 0.8),\n",
    "            \"pH\": (5.5, 6.5),\n",
    "            \"Rainfall (mm)\": (100, 200),  # Rainfall range\n",
    "            \"Time Range\": (6, 18)  # Day-time: Hours 6-18\n",
    "        },\n",
    "        \"Night-time (6pm - 6am)\": {\n",
    "            \"Temperature (°C)\": (18, 25),\n",
    "            \"Humidity (%)\": (50, 70),\n",
    "            \"Nitrogen (g/kg)\": (0.2, 0.6),\n",
    "            \"Phosphorus (mg/kg)\": (20, 50),\n",
    "            \"Potassium (cmol/kg)\": (0.2, 0.8),\n",
    "            \"pH\": (5.5, 6.5),\n",
    "            \"Rainfall (mm)\": (100, 200),  # Rainfall range\n",
    "            \"Time Range\": (18, 6)  # Night-time: Hours 18-6\n",
    "        }\n",
    "    },\n",
    "    \"Rice Blast\": {\n",
    "        # Conditions for Rice Blast (both Day-time and Night-time)\n",
    "    },\n",
    "    \"Sheath Blight\": {\n",
    "        # Conditions for Sheath Blight (both Day-time and Night-time)\n",
    "    },\n",
    "    \"Suboptimal Growth\": {\n",
    "        # Conditions for Suboptimal Growth (both Day-time and Night-time)\n",
    "    }\n",
    "}\n",
    "\n",
    "# Generate synthetic data\n",
    "num_samples = 2000\n",
    "synthetic_data = []\n",
    "\n",
    "for _ in range(num_samples):\n",
    "    # Randomly choose the disease condition and time of day\n",
    "    disease_condition = random.choice(list(conditions.keys()))\n",
    "    time_of_day = random.choice(list(conditions[disease_condition].keys()))\n",
    "\n",
    "    temp_range = conditions[disease_condition][time_of_day][\"Temperature (°C)\"]\n",
    "    humidity_range = conditions[disease_condition][time_of_day][\"Humidity (%)\"]\n",
    "    nitrogen_range = conditions[disease_condition][time_of_day][\"Nitrogen (g/kg)\"]\n",
    "    phosphorus_range = conditions[disease_condition][time_of_day][\"Phosphorus (mg/kg)\"]\n",
    "    potassium_range = conditions[disease_condition][time_of_day][\"Potassium (cmol/kg)\"]\n",
    "    ph_range = conditions[disease_condition][time_of_day][\"pH\"]\n",
    "    rainfall_range = conditions[disease_condition][time_of_day][\"Rainfall (mm)\"]\n",
    "\n",
    "    temperature = np.random.uniform(*temp_range)\n",
    "    humidity = np.random.uniform(*humidity_range)\n",
    "    nitrogen = np.random.uniform(*nitrogen_range)\n",
    "    phosphorus = np.random.uniform(*phosphorus_range)\n",
    "    potassium = np.random.uniform(*potassium_range)\n",
    "    pH = np.random.uniform(*ph_range)\n",
    "    rainfall = np.random.uniform(*rainfall_range)\n",
    "\n",
    "    depth = np.random.choice([\"0-5 cm\", \"5-15 cm\", \"15-30 cm\", \"30-60 cm\"])\n",
    "\n",
    "    time_of_day_range = conditions[disease_condition][time_of_day][\"Time Range\"]\n",
    "\n",
    "    if time_of_day_range[0] > time_of_day_range[1]:\n",
    "        time_range_1 = list(range(time_of_day_range[0], 24))\n",
    "        time_range_2 = list(range(0, time_of_day_range[1]))\n",
    "        time_range = time_range_1 + time_range_2\n",
    "    else:\n",
    "        time_range = list(range(time_of_day_range[0], time_of_day_range[1]))\n",
    "\n",
    "    time_of_day_hour = random.choice(time_range)\n",
    "\n",
    "    synthetic_data.append({\n",
    "        \"Latitude\": latitude,\n",
    "        \"Longitude\": longitude,\n",
    "        \"Depth\": depth,\n",
    "        \"Nitrogen (g/kg)\": round(nitrogen, 4),\n",
    "        \"Phosphorus (mg/kg)\": round(phosphorus, 2),\n",
    "        \"Potassium (cmol/kg)\": round(potassium, 4),\n",
    "        \"pH\": round(pH, 2),\n",
    "        \"Temperature (°C)\": round(temperature, 2),\n",
    "        \"Humidity (%)\": round(humidity, 2),\n",
    "        \"Rainfall (mm)\": round(rainfall, 2),\n",
    "        \"Time of Day (Hour)\": time_of_day_hour,\n",
    "        \"Disease\": disease_condition\n",
    "    })\n",
    "\n",
    "# Convert to DataFrame\n",
    "synthetic_df = pd.DataFrame(synthetic_data)\n",
    "\n",
    "# Save the dataset in the current directory or VS Code workspace\n",
    "file_path = file_path = r\"C:\\Users\\bhjai\\OneDrive\\Desktop\\mode_2\\crop_model\\updated_rice_dataset.csv\"\n",
    "  # Relative path\n",
    "synthetic_df.to_csv(file_path, index=False)\n",
    "\n",
    "print(f\"Dataset saved successfully at {file_path}\")\n"
   ]
  },
  {
   "cell_type": "markdown",
   "metadata": {},
   "source": [
    "Weather API integration "
   ]
  },
  {
   "cell_type": "code",
   "execution_count": 14,
   "metadata": {},
   "outputs": [
    {
     "name": "stdout",
     "output_type": "stream",
     "text": [
      "Current Conditions: Temperature=27.2°C, Humidity=70%, Rainfall=0.07mm\n",
      "Last updated hour: 15 (24-hour format)\n"
     ]
    }
   ],
   "source": [
    "import requests\n",
    "from datetime import datetime\n",
    "\n",
    "def fetch_weather(lat, lon):\n",
    "    api_key = \"b1f167d835524000bd0165053242911\"  # Replace with your actual API key\n",
    "    url = f\"https://api.weatherapi.com/v1/current.json?key={api_key}&q={lat},{lon}&aqi=no\"\n",
    "    response = requests.get(url).json()\n",
    "    \n",
    "    # Parse weather data\n",
    "    temperature = response['current']['temp_c']  # Temperature in Celsius\n",
    "    humidity = response['current']['humidity']   # Humidity in percentage\n",
    "    rainfall = response.get('current', {}).get('precip_mm', 0)  # Rainfall in mm\n",
    "    last_updated = response['current']['last_updated']  # Time of last update\n",
    "\n",
    "    # Convert the last_updated time to 24-hour format (hour only)\n",
    "    time_obj = datetime.strptime(last_updated, \"%Y-%m-%d %H:%M\")\n",
    "    hour = time_obj.hour  # Get the hour (0-23)\n",
    "\n",
    "    return temperature, humidity, rainfall, hour\n",
    "\n",
    "# Test for Hyderabad\n",
    "lat, lon = 17.3850, 78.4867\n",
    "temperature, humidity, rainfall, hour = fetch_weather(lat, lon)\n",
    "print(f\"Current Conditions: Temperature={temperature}°C, Humidity={humidity}%, Rainfall={rainfall}mm\")\n",
    "print(f\"Last updated hour: {hour} (24-hour format)\")\n"
   ]
  },
  {
   "cell_type": "markdown",
   "metadata": {},
   "source": [
    "Load dataset\n"
   ]
  },
  {
   "cell_type": "code",
   "execution_count": 15,
   "metadata": {},
   "outputs": [
    {
     "name": "stdout",
     "output_type": "stream",
     "text": [
      "Dataset Loaded:\n",
      "   Latitude  Longitude     Depth  Nitrogen (g/kg)  Phosphorus (mg/kg)  \\\n",
      "0    17.385    78.4867   5-15 cm           0.5359               40.70   \n",
      "1    17.385    78.4867  30-60 cm           0.5962               47.63   \n",
      "2    17.385    78.4867   5-15 cm           0.5493               17.60   \n",
      "3    17.385    78.4867   5-15 cm           0.5268                9.76   \n",
      "4    17.385    78.4867    0-5 cm           0.4417               29.41   \n",
      "\n",
      "   Potassium (cmol/kg)    pH  Temperature (°C)  Humidity (%)  Rainfall (mm)  \\\n",
      "0               0.2478  7.01             28.49         67.83         195.03   \n",
      "1               0.4584  5.83             26.05         69.03         109.20   \n",
      "2               0.2120  6.02             29.97         94.94         256.48   \n",
      "3               0.4408  5.63             18.19         77.74          76.60   \n",
      "4               0.9354  6.31             29.17         92.39         174.99   \n",
      "\n",
      "   Time of Day (Hour)            Disease  \n",
      "0                  18      Sheath Blight  \n",
      "1                  10            Healthy  \n",
      "2                   0      Sheath Blight  \n",
      "3                   2  Suboptimal Growth  \n",
      "4                   0         Rice Blast  \n"
     ]
    }
   ],
   "source": [
    "import pandas as pd\n",
    "\n",
    "# Load the dataset\n",
    "file_path = r\"rice_dataset.csv\"\n",
    "df = pd.read_csv(file_path)\n",
    "\n",
    "# Preview the dataset\n",
    "print(\"Dataset Loaded:\")\n",
    "print(df.head())\n"
   ]
  },
  {
   "cell_type": "markdown",
   "metadata": {},
   "source": [
    "fetch NDVI for each location"
   ]
  },
  {
   "cell_type": "code",
   "execution_count": 16,
   "metadata": {},
   "outputs": [
    {
     "name": "stderr",
     "output_type": "stream",
     "text": [
      "*** Earth Engine *** Share your feedback by taking our Annual Developer Satisfaction Survey: https://google.qualtrics.com/jfe/form/SV_0JLhFqfSY1uiEaW?source=Init\n"
     ]
    }
   ],
   "source": [
    "import ee\n",
    "\n",
    "# Initialize Google Earth Engine\n",
    "service_account = 'agriculture@agriculture-analysis.iam.gserviceaccount.com'\n",
    "private_key_path =r'key.json'\n",
    "credentials = ee.ServiceAccountCredentials(service_account, private_key_path)\n",
    "ee.Initialize(credentials)\n",
    "\n",
    "# Function to fetch NDVI\n",
    "def fetch_ndvi(lat, lon, start_date='2023-01-01', end_date='2023-12-31'):\n",
    "    try:\n",
    "        roi = ee.Geometry.Point([lon, lat])\n",
    "        \n",
    "        # Fetch Sentinel-2 data\n",
    "        dataset = ee.ImageCollection(\"COPERNICUS/S2_HARMONIZED\") \\\n",
    "            .filterBounds(roi) \\\n",
    "            .filterDate(start_date, end_date) \\\n",
    "            .filter(ee.Filter.lt(\"CLOUDY_PIXEL_PERCENTAGE\", 10))\n",
    "        \n",
    "        # Compute NDVI\n",
    "        ndvi_image = dataset.median().normalizedDifference(['B8', 'B4'])\n",
    "        ndvi = ndvi_image.reduceRegion(\n",
    "            reducer=ee.Reducer.mean(),\n",
    "            geometry=roi,\n",
    "            scale=10\n",
    "        ).getInfo()\n",
    "\n",
    "        return ndvi.get('nd', None)\n",
    "    except Exception as e:\n",
    "        print(f\"Error fetching NDVI for location ({lat}, {lon}): {e}\")\n",
    "        return None\n"
   ]
  },
  {
   "cell_type": "markdown",
   "metadata": {},
   "source": [
    "add NDVI to each row"
   ]
  },
  {
   "cell_type": "code",
   "execution_count": 17,
   "metadata": {},
   "outputs": [
    {
     "name": "stdout",
     "output_type": "stream",
     "text": [
      "   Latitude  Longitude\n",
      "0    17.385    78.4867\n"
     ]
    }
   ],
   "source": [
    "# Extract unique Latitude and Longitude pairs\n",
    "coordinates = df[['Latitude', 'Longitude']].drop_duplicates()\n",
    "print(coordinates.head())\n"
   ]
  },
  {
   "cell_type": "markdown",
   "metadata": {},
   "source": [
    "fetch NDVI"
   ]
  },
  {
   "cell_type": "code",
   "execution_count": 19,
   "metadata": {},
   "outputs": [],
   "source": [
    "import ee\n",
    "\n",
    "# Initialize Earth Engine\n",
    "service_account = 'agriculture@agriculture-analysis.iam.gserviceaccount.com'\n",
    "private_key_path = r'key.json'\n",
    "credentials = ee.ServiceAccountCredentials(service_account, private_key_path)\n",
    "ee.Initialize(credentials)\n",
    "\n",
    "# Define Hyderabad region as a bounding box\n",
    "hyderabad_region = ee.Geometry.Rectangle([78.3405, 17.1940, 78.6291, 17.5041])  # Adjust as needed\n"
   ]
  },
  {
   "cell_type": "markdown",
   "metadata": {},
   "source": [
    "get NDVI for hyderabad"
   ]
  },
  {
   "cell_type": "code",
   "execution_count": 20,
   "metadata": {},
   "outputs": [
    {
     "name": "stdout",
     "output_type": "stream",
     "text": [
      "NDVI for Hyderabad: 0.2007114866387348\n"
     ]
    }
   ],
   "source": [
    "def fetch_ndvi_hyderabad(start_date='2023-01-01', end_date='2023-12-31'):\n",
    "    try:\n",
    "        # Filter Sentinel-2 dataset for Hyderabad region\n",
    "        dataset = ee.ImageCollection(\"COPERNICUS/S2_HARMONIZED\") \\\n",
    "            .filterBounds(hyderabad_region) \\\n",
    "            .filterDate(start_date, end_date) \\\n",
    "            .filter(ee.Filter.lt(\"CLOUDY_PIXEL_PERCENTAGE\", 10))\n",
    "        \n",
    "        # Calculate NDVI\n",
    "        ndvi_image = dataset.median().normalizedDifference(['B8', 'B4'])\n",
    "        \n",
    "        # Reduce NDVI data to a single value per region\n",
    "        ndvi_stats = ndvi_image.reduceRegion(\n",
    "            reducer=ee.Reducer.mean(),\n",
    "            geometry=hyderabad_region,\n",
    "            scale=500,  # Coarser scale (500 meters)\n",
    "            maxPixels=1e8,  # Increase max pixels limit\n",
    "            bestEffort=True  # Allow aggregation with reduced precision\n",
    "        ).getInfo()\n",
    "        \n",
    "        return ndvi_stats.get('nd', None)\n",
    "    except Exception as e:\n",
    "        print(f\"Error fetching NDVI for Hyderabad: {e}\")\n",
    "        return None\n",
    "\n",
    "# Fetch NDVI for Hyderabad\n",
    "ndvi_hyderabad = fetch_ndvi_hyderabad()\n",
    "print(f\"NDVI for Hyderabad: {ndvi_hyderabad}\")\n"
   ]
  },
  {
   "cell_type": "markdown",
   "metadata": {},
   "source": [
    "add NDVI to dataset"
   ]
  },
  {
   "cell_type": "code",
   "execution_count": 23,
   "metadata": {},
   "outputs": [
    {
     "name": "stdout",
     "output_type": "stream",
     "text": [
      "Updated dataset saved successfully at rice_dataset.csv\n",
      "Updated Dataset Preview:\n",
      "   Latitude  Longitude     Depth  Nitrogen (g/kg)  Phosphorus (mg/kg)  \\\n",
      "0    17.385    78.4867   5-15 cm           0.5359               40.70   \n",
      "1    17.385    78.4867  30-60 cm           0.5962               47.63   \n",
      "2    17.385    78.4867   5-15 cm           0.5493               17.60   \n",
      "3    17.385    78.4867   5-15 cm           0.5268                9.76   \n",
      "4    17.385    78.4867    0-5 cm           0.4417               29.41   \n",
      "\n",
      "   Potassium (cmol/kg)    pH  Temperature (°C)  Humidity (%)  Rainfall (mm)  \\\n",
      "0               0.2478  7.01             28.49         67.83         195.03   \n",
      "1               0.4584  5.83             26.05         69.03         109.20   \n",
      "2               0.2120  6.02             29.97         94.94         256.48   \n",
      "3               0.4408  5.63             18.19         77.74          76.60   \n",
      "4               0.9354  6.31             29.17         92.39         174.99   \n",
      "\n",
      "   Time of Day (Hour)            Disease      NDVI  \n",
      "0                  18      Sheath Blight  0.200711  \n",
      "1                  10            Healthy  0.200711  \n",
      "2                   0      Sheath Blight  0.200711  \n",
      "3                   2  Suboptimal Growth  0.200711  \n",
      "4                   0         Rice Blast  0.200711  \n"
     ]
    }
   ],
   "source": [
    "# Add NDVI to the dataset\n",
    "df['NDVI'] = ndvi_hyderabad\n",
    "\n",
    "# Save the updated dataset\n",
    "updated_file_path = r\"rice_dataset.csv\"\n",
    "df.to_csv(updated_file_path, index=False)\n",
    "\n",
    "print(f\"Updated dataset saved successfully at {updated_file_path}\")\n",
    "print(\"Updated Dataset Preview:\")\n",
    "print(df.head())\n"
   ]
  },
  {
   "cell_type": "markdown",
   "metadata": {},
   "source": [
    "Train the model "
   ]
  },
  {
   "cell_type": "code",
   "execution_count": 32,
   "metadata": {},
   "outputs": [
    {
     "name": "stdout",
     "output_type": "stream",
     "text": [
      "Epoch 1/50\n"
     ]
    },
    {
     "name": "stderr",
     "output_type": "stream",
     "text": [
      "c:\\Users\\drish\\AppData\\Local\\Programs\\Python\\Python311\\Lib\\site-packages\\keras\\src\\layers\\core\\dense.py:87: UserWarning: Do not pass an `input_shape`/`input_dim` argument to a layer. When using Sequential models, prefer using an `Input(shape)` object as the first layer in the model instead.\n",
      "  super().__init__(activity_regularizer=activity_regularizer, **kwargs)\n"
     ]
    },
    {
     "name": "stdout",
     "output_type": "stream",
     "text": [
      "\u001b[1m40/40\u001b[0m \u001b[32m━━━━━━━━━━━━━━━━━━━━\u001b[0m\u001b[37m\u001b[0m \u001b[1m1s\u001b[0m 6ms/step - accuracy: 0.3820 - loss: 1.2932 - val_accuracy: 0.7812 - val_loss: 0.7874\n",
      "Epoch 2/50\n",
      "\u001b[1m40/40\u001b[0m \u001b[32m━━━━━━━━━━━━━━━━━━━━\u001b[0m\u001b[37m\u001b[0m \u001b[1m0s\u001b[0m 2ms/step - accuracy: 0.7286 - loss: 0.7652 - val_accuracy: 0.8406 - val_loss: 0.4688\n",
      "Epoch 3/50\n",
      "\u001b[1m40/40\u001b[0m \u001b[32m━━━━━━━━━━━━━━━━━━━━\u001b[0m\u001b[37m\u001b[0m \u001b[1m0s\u001b[0m 3ms/step - accuracy: 0.8045 - loss: 0.5474 - val_accuracy: 0.8500 - val_loss: 0.3956\n",
      "Epoch 4/50\n",
      "\u001b[1m40/40\u001b[0m \u001b[32m━━━━━━━━━━━━━━━━━━━━\u001b[0m\u001b[37m\u001b[0m \u001b[1m0s\u001b[0m 2ms/step - accuracy: 0.7992 - loss: 0.4930 - val_accuracy: 0.8656 - val_loss: 0.3385\n",
      "Epoch 5/50\n",
      "\u001b[1m40/40\u001b[0m \u001b[32m━━━━━━━━━━━━━━━━━━━━\u001b[0m\u001b[37m\u001b[0m \u001b[1m0s\u001b[0m 3ms/step - accuracy: 0.8272 - loss: 0.4120 - val_accuracy: 0.8875 - val_loss: 0.2996\n",
      "Epoch 6/50\n",
      "\u001b[1m40/40\u001b[0m \u001b[32m━━━━━━━━━━━━━━━━━━━━\u001b[0m\u001b[37m\u001b[0m \u001b[1m0s\u001b[0m 2ms/step - accuracy: 0.8535 - loss: 0.3637 - val_accuracy: 0.8969 - val_loss: 0.2919\n",
      "Epoch 7/50\n",
      "\u001b[1m40/40\u001b[0m \u001b[32m━━━━━━━━━━━━━━━━━━━━\u001b[0m\u001b[37m\u001b[0m \u001b[1m0s\u001b[0m 2ms/step - accuracy: 0.8687 - loss: 0.3338 - val_accuracy: 0.8969 - val_loss: 0.2687\n",
      "Epoch 8/50\n",
      "\u001b[1m40/40\u001b[0m \u001b[32m━━━━━━━━━━━━━━━━━━━━\u001b[0m\u001b[37m\u001b[0m \u001b[1m0s\u001b[0m 2ms/step - accuracy: 0.8970 - loss: 0.3111 - val_accuracy: 0.9031 - val_loss: 0.2393\n",
      "Epoch 9/50\n",
      "\u001b[1m40/40\u001b[0m \u001b[32m━━━━━━━━━━━━━━━━━━━━\u001b[0m\u001b[37m\u001b[0m \u001b[1m0s\u001b[0m 2ms/step - accuracy: 0.8860 - loss: 0.3101 - val_accuracy: 0.9219 - val_loss: 0.2250\n",
      "Epoch 10/50\n",
      "\u001b[1m40/40\u001b[0m \u001b[32m━━━━━━━━━━━━━━━━━━━━\u001b[0m\u001b[37m\u001b[0m \u001b[1m0s\u001b[0m 2ms/step - accuracy: 0.8637 - loss: 0.3192 - val_accuracy: 0.9062 - val_loss: 0.2171\n",
      "Epoch 11/50\n",
      "\u001b[1m40/40\u001b[0m \u001b[32m━━━━━━━━━━━━━━━━━━━━\u001b[0m\u001b[37m\u001b[0m \u001b[1m0s\u001b[0m 2ms/step - accuracy: 0.8998 - loss: 0.2546 - val_accuracy: 0.9187 - val_loss: 0.2017\n",
      "Epoch 12/50\n",
      "\u001b[1m40/40\u001b[0m \u001b[32m━━━━━━━━━━━━━━━━━━━━\u001b[0m\u001b[37m\u001b[0m \u001b[1m0s\u001b[0m 2ms/step - accuracy: 0.9100 - loss: 0.2529 - val_accuracy: 0.9281 - val_loss: 0.1865\n",
      "Epoch 13/50\n",
      "\u001b[1m40/40\u001b[0m \u001b[32m━━━━━━━━━━━━━━━━━━━━\u001b[0m\u001b[37m\u001b[0m \u001b[1m0s\u001b[0m 2ms/step - accuracy: 0.9058 - loss: 0.2629 - val_accuracy: 0.9344 - val_loss: 0.1676\n",
      "Epoch 14/50\n",
      "\u001b[1m40/40\u001b[0m \u001b[32m━━━━━━━━━━━━━━━━━━━━\u001b[0m\u001b[37m\u001b[0m \u001b[1m0s\u001b[0m 2ms/step - accuracy: 0.9244 - loss: 0.2223 - val_accuracy: 0.9312 - val_loss: 0.1665\n",
      "Epoch 15/50\n",
      "\u001b[1m40/40\u001b[0m \u001b[32m━━━━━━━━━━━━━━━━━━━━\u001b[0m\u001b[37m\u001b[0m \u001b[1m0s\u001b[0m 2ms/step - accuracy: 0.9147 - loss: 0.2267 - val_accuracy: 0.9375 - val_loss: 0.1509\n",
      "Epoch 16/50\n",
      "\u001b[1m40/40\u001b[0m \u001b[32m━━━━━━━━━━━━━━━━━━━━\u001b[0m\u001b[37m\u001b[0m \u001b[1m0s\u001b[0m 2ms/step - accuracy: 0.9095 - loss: 0.2244 - val_accuracy: 0.9344 - val_loss: 0.1515\n",
      "Epoch 17/50\n",
      "\u001b[1m40/40\u001b[0m \u001b[32m━━━━━━━━━━━━━━━━━━━━\u001b[0m\u001b[37m\u001b[0m \u001b[1m0s\u001b[0m 4ms/step - accuracy: 0.9083 - loss: 0.2245 - val_accuracy: 0.9500 - val_loss: 0.1438\n",
      "Epoch 18/50\n",
      "\u001b[1m40/40\u001b[0m \u001b[32m━━━━━━━━━━━━━━━━━━━━\u001b[0m\u001b[37m\u001b[0m \u001b[1m0s\u001b[0m 2ms/step - accuracy: 0.9300 - loss: 0.2021 - val_accuracy: 0.9469 - val_loss: 0.1342\n",
      "Epoch 19/50\n",
      "\u001b[1m40/40\u001b[0m \u001b[32m━━━━━━━━━━━━━━━━━━━━\u001b[0m\u001b[37m\u001b[0m \u001b[1m0s\u001b[0m 3ms/step - accuracy: 0.9265 - loss: 0.1986 - val_accuracy: 0.9500 - val_loss: 0.1318\n",
      "Epoch 20/50\n",
      "\u001b[1m40/40\u001b[0m \u001b[32m━━━━━━━━━━━━━━━━━━━━\u001b[0m\u001b[37m\u001b[0m \u001b[1m0s\u001b[0m 3ms/step - accuracy: 0.9368 - loss: 0.1954 - val_accuracy: 0.9469 - val_loss: 0.1285\n",
      "Epoch 21/50\n",
      "\u001b[1m40/40\u001b[0m \u001b[32m━━━━━━━━━━━━━━━━━━━━\u001b[0m\u001b[37m\u001b[0m \u001b[1m0s\u001b[0m 2ms/step - accuracy: 0.9440 - loss: 0.1527 - val_accuracy: 0.9531 - val_loss: 0.1259\n",
      "Epoch 22/50\n",
      "\u001b[1m40/40\u001b[0m \u001b[32m━━━━━━━━━━━━━━━━━━━━\u001b[0m\u001b[37m\u001b[0m \u001b[1m0s\u001b[0m 3ms/step - accuracy: 0.9393 - loss: 0.1707 - val_accuracy: 0.9469 - val_loss: 0.1194\n",
      "Epoch 23/50\n",
      "\u001b[1m40/40\u001b[0m \u001b[32m━━━━━━━━━━━━━━━━━━━━\u001b[0m\u001b[37m\u001b[0m \u001b[1m0s\u001b[0m 3ms/step - accuracy: 0.9424 - loss: 0.1658 - val_accuracy: 0.9531 - val_loss: 0.1153\n",
      "Epoch 24/50\n",
      "\u001b[1m40/40\u001b[0m \u001b[32m━━━━━━━━━━━━━━━━━━━━\u001b[0m\u001b[37m\u001b[0m \u001b[1m0s\u001b[0m 3ms/step - accuracy: 0.9293 - loss: 0.1848 - val_accuracy: 0.9531 - val_loss: 0.1140\n",
      "Epoch 25/50\n",
      "\u001b[1m40/40\u001b[0m \u001b[32m━━━━━━━━━━━━━━━━━━━━\u001b[0m\u001b[37m\u001b[0m \u001b[1m0s\u001b[0m 3ms/step - accuracy: 0.9460 - loss: 0.1442 - val_accuracy: 0.9469 - val_loss: 0.1112\n",
      "Epoch 26/50\n",
      "\u001b[1m40/40\u001b[0m \u001b[32m━━━━━━━━━━━━━━━━━━━━\u001b[0m\u001b[37m\u001b[0m \u001b[1m0s\u001b[0m 3ms/step - accuracy: 0.9385 - loss: 0.1593 - val_accuracy: 0.9563 - val_loss: 0.1105\n",
      "Epoch 27/50\n",
      "\u001b[1m40/40\u001b[0m \u001b[32m━━━━━━━━━━━━━━━━━━━━\u001b[0m\u001b[37m\u001b[0m \u001b[1m0s\u001b[0m 2ms/step - accuracy: 0.9504 - loss: 0.1511 - val_accuracy: 0.9563 - val_loss: 0.1137\n",
      "Epoch 28/50\n",
      "\u001b[1m40/40\u001b[0m \u001b[32m━━━━━━━━━━━━━━━━━━━━\u001b[0m\u001b[37m\u001b[0m \u001b[1m0s\u001b[0m 2ms/step - accuracy: 0.9497 - loss: 0.1323 - val_accuracy: 0.9531 - val_loss: 0.1083\n",
      "Epoch 29/50\n",
      "\u001b[1m40/40\u001b[0m \u001b[32m━━━━━━━━━━━━━━━━━━━━\u001b[0m\u001b[37m\u001b[0m \u001b[1m0s\u001b[0m 4ms/step - accuracy: 0.9422 - loss: 0.1660 - val_accuracy: 0.9563 - val_loss: 0.1064\n",
      "Epoch 30/50\n",
      "\u001b[1m40/40\u001b[0m \u001b[32m━━━━━━━━━━━━━━━━━━━━\u001b[0m\u001b[37m\u001b[0m \u001b[1m0s\u001b[0m 3ms/step - accuracy: 0.9458 - loss: 0.1636 - val_accuracy: 0.9594 - val_loss: 0.1042\n",
      "Epoch 31/50\n",
      "\u001b[1m40/40\u001b[0m \u001b[32m━━━━━━━━━━━━━━━━━━━━\u001b[0m\u001b[37m\u001b[0m \u001b[1m0s\u001b[0m 3ms/step - accuracy: 0.9282 - loss: 0.1737 - val_accuracy: 0.9594 - val_loss: 0.1052\n",
      "Epoch 32/50\n",
      "\u001b[1m40/40\u001b[0m \u001b[32m━━━━━━━━━━━━━━━━━━━━\u001b[0m\u001b[37m\u001b[0m \u001b[1m0s\u001b[0m 2ms/step - accuracy: 0.9447 - loss: 0.1462 - val_accuracy: 0.9563 - val_loss: 0.1022\n",
      "Epoch 33/50\n",
      "\u001b[1m40/40\u001b[0m \u001b[32m━━━━━━━━━━━━━━━━━━━━\u001b[0m\u001b[37m\u001b[0m \u001b[1m0s\u001b[0m 3ms/step - accuracy: 0.9409 - loss: 0.1552 - val_accuracy: 0.9500 - val_loss: 0.1006\n",
      "Epoch 34/50\n",
      "\u001b[1m40/40\u001b[0m \u001b[32m━━━━━━━━━━━━━━━━━━━━\u001b[0m\u001b[37m\u001b[0m \u001b[1m0s\u001b[0m 2ms/step - accuracy: 0.9528 - loss: 0.1328 - val_accuracy: 0.9594 - val_loss: 0.0978\n",
      "Epoch 35/50\n",
      "\u001b[1m40/40\u001b[0m \u001b[32m━━━━━━━━━━━━━━━━━━━━\u001b[0m\u001b[37m\u001b[0m \u001b[1m0s\u001b[0m 2ms/step - accuracy: 0.9564 - loss: 0.1301 - val_accuracy: 0.9594 - val_loss: 0.0953\n",
      "Epoch 36/50\n",
      "\u001b[1m40/40\u001b[0m \u001b[32m━━━━━━━━━━━━━━━━━━━━\u001b[0m\u001b[37m\u001b[0m \u001b[1m0s\u001b[0m 2ms/step - accuracy: 0.9517 - loss: 0.1245 - val_accuracy: 0.9594 - val_loss: 0.0883\n",
      "Epoch 37/50\n",
      "\u001b[1m40/40\u001b[0m \u001b[32m━━━━━━━━━━━━━━━━━━━━\u001b[0m\u001b[37m\u001b[0m \u001b[1m0s\u001b[0m 3ms/step - accuracy: 0.9592 - loss: 0.1122 - val_accuracy: 0.9656 - val_loss: 0.0972\n",
      "Epoch 38/50\n",
      "\u001b[1m40/40\u001b[0m \u001b[32m━━━━━━━━━━━━━━━━━━━━\u001b[0m\u001b[37m\u001b[0m \u001b[1m0s\u001b[0m 3ms/step - accuracy: 0.9593 - loss: 0.1261 - val_accuracy: 0.9594 - val_loss: 0.0952\n",
      "Epoch 39/50\n",
      "\u001b[1m40/40\u001b[0m \u001b[32m━━━━━━━━━━━━━━━━━━━━\u001b[0m\u001b[37m\u001b[0m \u001b[1m0s\u001b[0m 3ms/step - accuracy: 0.9571 - loss: 0.1149 - val_accuracy: 0.9625 - val_loss: 0.0981\n",
      "Epoch 40/50\n",
      "\u001b[1m40/40\u001b[0m \u001b[32m━━━━━━━━━━━━━━━━━━━━\u001b[0m\u001b[37m\u001b[0m \u001b[1m0s\u001b[0m 2ms/step - accuracy: 0.9603 - loss: 0.1108 - val_accuracy: 0.9531 - val_loss: 0.1108\n",
      "Epoch 41/50\n",
      "\u001b[1m40/40\u001b[0m \u001b[32m━━━━━━━━━━━━━━━━━━━━\u001b[0m\u001b[37m\u001b[0m \u001b[1m0s\u001b[0m 3ms/step - accuracy: 0.9527 - loss: 0.1200 - val_accuracy: 0.9625 - val_loss: 0.1024\n",
      "Epoch 42/50\n",
      "\u001b[1m40/40\u001b[0m \u001b[32m━━━━━━━━━━━━━━━━━━━━\u001b[0m\u001b[37m\u001b[0m \u001b[1m0s\u001b[0m 3ms/step - accuracy: 0.9526 - loss: 0.1124 - val_accuracy: 0.9563 - val_loss: 0.0932\n",
      "Epoch 43/50\n",
      "\u001b[1m40/40\u001b[0m \u001b[32m━━━━━━━━━━━━━━━━━━━━\u001b[0m\u001b[37m\u001b[0m \u001b[1m0s\u001b[0m 3ms/step - accuracy: 0.9574 - loss: 0.1055 - val_accuracy: 0.9656 - val_loss: 0.0966\n",
      "Epoch 44/50\n",
      "\u001b[1m40/40\u001b[0m \u001b[32m━━━━━━━━━━━━━━━━━━━━\u001b[0m\u001b[37m\u001b[0m \u001b[1m0s\u001b[0m 3ms/step - accuracy: 0.9473 - loss: 0.1289 - val_accuracy: 0.9594 - val_loss: 0.0941\n",
      "Epoch 45/50\n",
      "\u001b[1m40/40\u001b[0m \u001b[32m━━━━━━━━━━━━━━━━━━━━\u001b[0m\u001b[37m\u001b[0m \u001b[1m0s\u001b[0m 2ms/step - accuracy: 0.9455 - loss: 0.1253 - val_accuracy: 0.9594 - val_loss: 0.0924\n",
      "Epoch 46/50\n",
      "\u001b[1m40/40\u001b[0m \u001b[32m━━━━━━━━━━━━━━━━━━━━\u001b[0m\u001b[37m\u001b[0m \u001b[1m0s\u001b[0m 3ms/step - accuracy: 0.9626 - loss: 0.1128 - val_accuracy: 0.9625 - val_loss: 0.0937\n",
      "Epoch 47/50\n",
      "\u001b[1m40/40\u001b[0m \u001b[32m━━━━━━━━━━━━━━━━━━━━\u001b[0m\u001b[37m\u001b[0m \u001b[1m0s\u001b[0m 3ms/step - accuracy: 0.9663 - loss: 0.0976 - val_accuracy: 0.9625 - val_loss: 0.0900\n",
      "Epoch 48/50\n",
      "\u001b[1m40/40\u001b[0m \u001b[32m━━━━━━━━━━━━━━━━━━━━\u001b[0m\u001b[37m\u001b[0m \u001b[1m0s\u001b[0m 3ms/step - accuracy: 0.9644 - loss: 0.1035 - val_accuracy: 0.9563 - val_loss: 0.0938\n",
      "Epoch 49/50\n",
      "\u001b[1m40/40\u001b[0m \u001b[32m━━━━━━━━━━━━━━━━━━━━\u001b[0m\u001b[37m\u001b[0m \u001b[1m0s\u001b[0m 2ms/step - accuracy: 0.9522 - loss: 0.1231 - val_accuracy: 0.9625 - val_loss: 0.0869\n",
      "Epoch 50/50\n",
      "\u001b[1m40/40\u001b[0m \u001b[32m━━━━━━━━━━━━━━━━━━━━\u001b[0m\u001b[37m\u001b[0m \u001b[1m0s\u001b[0m 3ms/step - accuracy: 0.9683 - loss: 0.1230 - val_accuracy: 0.9563 - val_loss: 0.0940\n",
      "Test Accuracy: 96.50%\n",
      "\u001b[1m13/13\u001b[0m \u001b[32m━━━━━━━━━━━━━━━━━━━━\u001b[0m\u001b[37m\u001b[0m \u001b[1m0s\u001b[0m 4ms/step \n",
      "Classification Report:\n",
      "                   precision    recall  f1-score   support\n",
      "\n",
      "          Healthy       0.96      1.00      0.98       103\n",
      "       Rice Blast       0.91      0.98      0.95        88\n",
      "    Sheath Blight       0.99      0.96      0.98       104\n",
      "Suboptimal Growth       0.99      0.92      0.96       105\n",
      "\n",
      "         accuracy                           0.96       400\n",
      "        macro avg       0.96      0.97      0.96       400\n",
      "     weighted avg       0.97      0.96      0.97       400\n",
      "\n"
     ]
    }
   ],
   "source": [
    "import pandas as pd\n",
    "import numpy as np\n",
    "from sklearn.model_selection import train_test_split\n",
    "from sklearn.preprocessing import StandardScaler\n",
    "from sklearn.metrics import classification_report\n",
    "from tensorflow.keras.models import Sequential\n",
    "from tensorflow.keras.layers import Dense, Dropout\n",
    "from sklearn.preprocessing import LabelEncoder\n",
    "\n",
    "# Load the dataset\n",
    "file_path = r\"rice_dataset.csv\"\n",
    "df = pd.read_csv(file_path)\n",
    "\n",
    "# Prepare features (X) and target (y)\n",
    "X = df[['Nitrogen (g/kg)', 'Phosphorus (mg/kg)', 'Potassium (cmol/kg)', 'pH',\n",
    "        'Temperature (°C)', 'Humidity (%)', 'Rainfall (mm)', 'Time of Day (Hour)', 'NDVI']]\n",
    "y = df['Disease']  # Target column with labels like 'Healthy', 'Blast', etc.\n",
    "\n",
    "# Encode the target variable (disease labels)\n",
    "label_encoder = LabelEncoder()\n",
    "y_encoded = label_encoder.fit_transform(y)  # Convert labels to integers\n",
    "\n",
    "# Split the data into training and testing sets\n",
    "X_train, X_test, y_train, y_test = train_test_split(X, y_encoded, test_size=0.2, random_state=42)\n",
    "\n",
    "# Standardize the features\n",
    "scaler = StandardScaler()\n",
    "X_train_scaled = scaler.fit_transform(X_train)\n",
    "X_test_scaled = scaler.transform(X_test)\n",
    "\n",
    "# Build the Neural Network model\n",
    "model = Sequential([\n",
    "    Dense(128, activation='relu', input_shape=(X_train_scaled.shape[1],)),\n",
    "    Dropout(0.3),\n",
    "    Dense(64, activation='relu'),\n",
    "    Dropout(0.3),\n",
    "    Dense(len(label_encoder.classes_), activation='softmax')  # Output layer for classification\n",
    "])\n",
    "\n",
    "# Compile the model\n",
    "model.compile(optimizer='adam', loss='sparse_categorical_crossentropy', metrics=['accuracy'])\n",
    "\n",
    "# Train the model\n",
    "history = model.fit(X_train_scaled, y_train, epochs=50, validation_split=0.2, batch_size=32, verbose=1)\n",
    "\n",
    "# Evaluate the model on the test set\n",
    "test_loss, test_accuracy = model.evaluate(X_test_scaled, y_test, verbose=0)\n",
    "print(f\"Test Accuracy: {test_accuracy * 100:.2f}%\")\n",
    "\n",
    "# Predict using the model\n",
    "y_pred = model.predict(X_test_scaled)\n",
    "y_pred_classes = np.argmax(y_pred, axis=1)  # Get the class with the highest probability\n",
    "\n",
    "# Classification report\n",
    "print(\"Classification Report:\")\n",
    "print(classification_report(y_test, y_pred_classes, target_names=label_encoder.classes_))\n"
   ]
  },
  {
   "cell_type": "markdown",
   "metadata": {},
   "source": [
    "Plot training history"
   ]
  },
  {
   "cell_type": "code",
   "execution_count": 33,
   "metadata": {},
   "outputs": [
    {
     "data": {
      "image/png": "[encoded data removed]",
      "text/plain": [
       "<Figure size 640x480 with 1 Axes>"
      ]
     },
     "metadata": {},
     "output_type": "display_data"
    },
    {
     "data": {
      "image/png": "[encoded data removed]",
      "text/plain": [
       "<Figure size 640x480 with 1 Axes>"
      ]
     },
     "metadata": {},
     "output_type": "display_data"
    }
   ],
   "source": [
    "import matplotlib.pyplot as plt\n",
    "\n",
    "# Plot training & validation accuracy values\n",
    "plt.plot(history.history['accuracy'])\n",
    "plt.plot(history.history['val_accuracy'])\n",
    "plt.title('Model accuracy')\n",
    "plt.xlabel('Epoch')\n",
    "plt.ylabel('Accuracy')\n",
    "plt.legend(['Train', 'Test'], loc='upper left')\n",
    "plt.show()\n",
    "\n",
    "# Plot training & validation loss values\n",
    "plt.plot(history.history['loss'])\n",
    "plt.plot(history.history['val_loss'])\n",
    "plt.title('Model loss')\n",
    "plt.xlabel('Epoch')\n",
    "plt.ylabel('Loss')\n",
    "plt.legend(['Train', 'Test'], loc='upper left')\n",
    "plt.show()\n"
   ]
  },
  {
   "cell_type": "markdown",
   "metadata": {},
   "source": [
    "Save the model,scaler,label encoder"
   ]
  },
  {
   "cell_type": "code",
   "execution_count": 34,
   "metadata": {},
   "outputs": [
    {
     "name": "stderr",
     "output_type": "stream",
     "text": [
      "WARNING:absl:You are saving your model as an HDF5 file via `model.save()` or `keras.saving.save_model(model)`. This file format is considered legacy. We recommend using instead the native Keras format, e.g. `model.save('my_model.keras')` or `keras.saving.save_model(model, 'my_model.keras')`. \n"
     ]
    },
    {
     "name": "stdout",
     "output_type": "stream",
     "text": [
      "Model, scaler, and label encoder have been saved successfully!\n"
     ]
    }
   ],
   "source": [
    "import joblib\n",
    "from tensorflow.keras.models import save_model\n",
    "\n",
    "# Save the Keras model\n",
    "model.save(\"rice_disease_model.h5\")\n",
    "\n",
    "# Save the Scaler\n",
    "joblib.dump(scaler, \"scaler.pkl\")\n",
    "\n",
    "# Save the Label Encoder\n",
    "joblib.dump(label_encoder, \"label_encoder.pkl\")\n",
    "\n",
    "print(\"Model, scaler, and label encoder have been saved successfully!\")\n"
   ]
  },
  {
   "cell_type": "markdown",
   "metadata": {},
   "source": [
    "to append back to dataset"
   ]
  },
  {
   "cell_type": "code",
   "execution_count": 11,
   "metadata": {},
   "outputs": [
    {
     "name": "stderr",
     "output_type": "stream",
     "text": [
      "WARNING:absl:Compiled the loaded model, but the compiled metrics have yet to be built. `model.compile_metrics` will be empty until you train or evaluate the model.\n"
     ]
    },
    {
     "name": "stdout",
     "output_type": "stream",
     "text": [
      "WARNING:tensorflow:6 out of the last 6 calls to <function TensorFlowTrainer.make_predict_function.<locals>.one_step_on_data_distributed at 0x000002D693ACA200> triggered tf.function retracing. Tracing is expensive and the excessive number of tracings could be due to (1) creating @tf.function repeatedly in a loop, (2) passing tensors with different shapes, (3) passing Python objects instead of tensors. For (1), please define your @tf.function outside of the loop. For (2), @tf.function has reduce_retracing=True option that can avoid unnecessary retracing. For (3), please refer to https://www.tensorflow.org/guide/function#controlling_retracing and https://www.tensorflow.org/api_docs/python/tf/function for  more details.\n"
     ]
    },
    {
     "name": "stderr",
     "output_type": "stream",
     "text": [
      "c:\\Users\\drish\\AppData\\Local\\Programs\\Python\\Python311\\Lib\\site-packages\\sklearn\\base.py:493: UserWarning: X does not have valid feature names, but StandardScaler was fitted with feature names\n",
      "  warnings.warn(\n",
      "WARNING:tensorflow:6 out of the last 6 calls to <function TensorFlowTrainer.make_predict_function.<locals>.one_step_on_data_distributed at 0x000002D693ACA200> triggered tf.function retracing. Tracing is expensive and the excessive number of tracings could be due to (1) creating @tf.function repeatedly in a loop, (2) passing tensors with different shapes, (3) passing Python objects instead of tensors. For (1), please define your @tf.function outside of the loop. For (2), @tf.function has reduce_retracing=True option that can avoid unnecessary retracing. For (3), please refer to https://www.tensorflow.org/guide/function#controlling_retracing and https://www.tensorflow.org/api_docs/python/tf/function for  more details.\n"
     ]
    },
    {
     "name": "stdout",
     "output_type": "stream",
     "text": [
      "\u001b[1m1/1\u001b[0m \u001b[32m━━━━━━━━━━━━━━━━━━━━\u001b[0m\u001b[37m\u001b[0m \u001b[1m0s\u001b[0m 71ms/step\n",
      "Predicted Disease: Suboptimal Growth\n"
     ]
    }
   ],
   "source": [
    "import pandas as pd\n",
    "import numpy as np\n",
    "from tensorflow.keras.models import load_model\n",
    "import joblib\n",
    "\n",
    "# Load model, scaler, and label encoder\n",
    "model = load_model('rice_disease_model.h5')\n",
    "scaler = joblib.load('scaler.pkl')\n",
    "label_encoder = joblib.load('label_encoder.pkl')\n",
    "\n",
    "# Define the function to handle incoming data and predict the disease\n",
    "def predict_and_add_data(new_data):\n",
    "    # Define the column names based on the dataset structure\n",
    "    columns = ['Latitude', 'Longitude', 'Depth', 'Nitrogen (g/kg)', 'Phosphorus (mg/kg)', 'Potassium (cmol/kg)', \n",
    "               'pH', 'Temperature (°C)', 'Humidity (%)', 'Rainfall (mm)', 'Time of Day (Hour)', 'NDVI', 'Predicted Disease']\n",
    "    \n",
    "    # Ensure new data has all the required columns, and in the correct order\n",
    "    new_data = {col: new_data.get(col, np.nan) for col in columns}\n",
    "    \n",
    "    # Preprocess the incoming data (the new data received)\n",
    "    features = ['Nitrogen (g/kg)', 'Phosphorus (mg/kg)', 'Potassium (cmol/kg)', 'pH',\n",
    "                'Temperature (°C)', 'Humidity (%)', 'Rainfall (mm)', 'Time of Day (Hour)', 'NDVI']\n",
    "    \n",
    "    input_data = np.array([[new_data[feature] for feature in features]])\n",
    "    input_scaled = scaler.transform(input_data)  # Scale the input\n",
    "    \n",
    "    # Predict the disease label using the trained model\n",
    "    predicted_class_probabilities = model.predict(input_scaled)  # Get prediction probabilities\n",
    "    predicted_class = np.argmax(predicted_class_probabilities, axis=1)  # Get class with max probability\n",
    "    \n",
    "    # Decode the predicted label (disease type)\n",
    "    predicted_label = label_encoder.inverse_transform(predicted_class)\n",
    "    \n",
    "    # Add the predicted disease to the new data\n",
    "    new_data['Predicted Disease'] = predicted_label[0]\n",
    "    \n",
    "    # Load the existing dataset (rice_dataset.csv)\n",
    "    df = pd.read_csv('rice_dataset.csv')  \n",
    "    \n",
    "    # Convert the new data (dict) to a DataFrame\n",
    "    new_data_df = pd.DataFrame([new_data])\n",
    "    \n",
    "    # Concatenate the new data with the existing dataset\n",
    "    df = pd.concat([df, new_data_df], ignore_index=True)\n",
    "    \n",
    "    # Save the updated dataset to the CSV\n",
    "    df.to_csv('rice_dataset.csv', index=False)  # Save the updated dataset\n",
    "\n",
    "    return predicted_label[0]\n",
    "\n",
    "# Example input data received from the frontend\n",
    "new_input_data = {\n",
    "    \"Latitude\": 17.385,\n",
    "    \"Longitude\": 78.4867,\n",
    "    \"Depth\": \"0-5 cm\",\n",
    "    \"Nitrogen (g/kg)\": 0.3,\n",
    "    \"Phosphorus (mg/kg)\": 20,\n",
    "    \"Potassium (cmol/kg)\": 1.5,\n",
    "    \"pH\": 6.5,\n",
    "    \"Temperature (°C)\": 28,\n",
    "    \"Humidity (%)\": 85,\n",
    "    \"Rainfall (mm)\": 50,\n",
    "    \"Time of Day (Hour)\": 15,  # 3 PM\n",
    "    \"NDVI\": 0.6\n",
    "}\n",
    "\n",
    "# Predict and add new data with label\n",
    "predicted_disease = predict_and_add_data(new_input_data)\n",
    "print(f\"Predicted Disease: {predicted_disease}\")\n"
   ]
  },
  {
   "cell_type": "code",
   "execution_count": 12,
   "metadata": {},
   "outputs": [
    {
     "name": "stderr",
     "output_type": "stream",
     "text": [
      "WARNING:absl:Compiled the loaded model, but the compiled metrics have yet to be built. `model.compile_metrics` will be empty until you train or evaluate the model.\n"
     ]
    },
    {
     "name": "stdout",
     "output_type": "stream",
     "text": [
      "\u001b[1m1/1\u001b[0m \u001b[32m━━━━━━━━━━━━━━━━━━━━\u001b[0m\u001b[37m\u001b[0m \u001b[1m0s\u001b[0m 58ms/step\n",
      "Predicted Disease: Suboptimal Growth\n"
     ]
    },
    {
     "name": "stderr",
     "output_type": "stream",
     "text": [
      "c:\\Users\\drish\\AppData\\Local\\Programs\\Python\\Python311\\Lib\\site-packages\\sklearn\\base.py:493: UserWarning: X does not have valid feature names, but StandardScaler was fitted with feature names\n",
      "  warnings.warn(\n"
     ]
    }
   ],
   "source": [
    "import pandas as pd\n",
    "import numpy as np\n",
    "from tensorflow.keras.models import load_model\n",
    "import joblib\n",
    "\n",
    "# Load model, scaler, and label encoder\n",
    "model = load_model('rice_disease_model.h5')\n",
    "scaler = joblib.load('scaler.pkl')\n",
    "label_encoder = joblib.load('label_encoder.pkl')\n",
    "\n",
    "# Define the function to handle incoming data and predict the disease\n",
    "def predict_and_add_data(new_data):\n",
    "    # Define the column names based on the dataset structure\n",
    "    columns = ['Latitude', 'Longitude', 'Depth', 'Nitrogen (g/kg)', 'Phosphorus (mg/kg)', 'Potassium (cmol/kg)', \n",
    "               'pH', 'Temperature (°C)', 'Humidity (%)', 'Rainfall (mm)', 'Time of Day (Hour)', 'NDVI', 'Predicted Disease']\n",
    "    \n",
    "    # Ensure new data has all the required columns, and in the correct order\n",
    "    new_data = {col: new_data.get(col, np.nan) for col in columns}\n",
    "    \n",
    "    # Preprocess the incoming data (the new data received)\n",
    "    features = ['Nitrogen (g/kg)', 'Phosphorus (mg/kg)', 'Potassium (cmol/kg)', 'pH',\n",
    "                'Temperature (°C)', 'Humidity (%)', 'Rainfall (mm)', 'Time of Day (Hour)', 'NDVI']\n",
    "    \n",
    "    input_data = np.array([[new_data[feature] for feature in features]])\n",
    "    input_scaled = scaler.transform(input_data)  # Scale the input\n",
    "    \n",
    "    # Predict the disease label using the trained model\n",
    "    predicted_class_probabilities = model.predict(input_scaled)  # Get prediction probabilities\n",
    "    predicted_class = np.argmax(predicted_class_probabilities, axis=1)  # Get class with max probability\n",
    "    \n",
    "    # Decode the predicted label (disease type)\n",
    "    predicted_label = label_encoder.inverse_transform(predicted_class)\n",
    "    \n",
    "    # Add the predicted disease to the new data **before** NDVI\n",
    "    new_data['Predicted Disease'] = predicted_label[0]\n",
    "    \n",
    "    # Reorder the columns so that 'Predicted Disease' comes before 'NDVI'\n",
    "    new_data = {**new_data}  # Convert back to dictionary to handle reordering\n",
    "    columns_order = [col for col in columns if col != 'Predicted Disease']\n",
    "    columns_order.insert(columns_order.index('NDVI'), 'Predicted Disease')  # Insert 'Predicted Disease' before 'NDVI'\n",
    "    \n",
    "    # Reorder the new_data dictionary according to the correct column order\n",
    "    new_data_reordered = {col: new_data[col] for col in columns_order}\n",
    "    \n",
    "    # Load the existing dataset (rice_dataset.csv)\n",
    "    df = pd.read_csv('rice_dataset.csv')  \n",
    "    \n",
    "    # Convert the new data (dict) to a DataFrame\n",
    "    new_data_df = pd.DataFrame([new_data_reordered])\n",
    "    \n",
    "    # Concatenate the new data with the existing dataset\n",
    "    df = pd.concat([df, new_data_df], ignore_index=True)\n",
    "    \n",
    "    # Save the updated dataset to the CSV\n",
    "    df.to_csv('rice_dataset.csv', index=False)  # Save the updated dataset\n",
    "\n",
    "    return predicted_label[0]\n",
    "\n",
    "# Example input data received from the frontend\n",
    "new_input_data = {\n",
    "    \"Latitude\": 17.385,\n",
    "    \"Longitude\": 78.4867,\n",
    "    \"Depth\": \"0-5 cm\",\n",
    "    \"Nitrogen (g/kg)\": 0.3,\n",
    "    \"Phosphorus (mg/kg)\": 20,\n",
    "    \"Potassium (cmol/kg)\": 1.5,\n",
    "    \"pH\": 6.5,\n",
    "    \"Temperature (°C)\": 28,\n",
    "    \"Humidity (%)\": 85,\n",
    "    \"Rainfall (mm)\": 50,\n",
    "    \"Time of Day (Hour)\": 15,  # 3 PM\n",
    "    \"NDVI\": 0.6\n",
    "}\n",
    "\n",
    "# Predict and add new data with label\n",
    "predicted_disease = predict_and_add_data(new_input_data)\n",
    "print(f\"Predicted Disease: {predicted_disease}\")\n"
   ]
  }
 ],
 "metadata": {
  "kernelspec": {
   "display_name": "Python 3",
   "language": "python",
   "name": "python3"
  },
  "language_info": {
   "codemirror_mode": {
    "name": "ipython",
    "version": 3
   },
   "file_extension": ".py",
   "mimetype": "text/x-python",
   "name": "python",
   "nbconvert_exporter": "python",
   "pygments_lexer": "ipython3",
   "version": "3.11.8"
  }
 },
 "nbformat": 4,
 "nbformat_minor": 2
}
